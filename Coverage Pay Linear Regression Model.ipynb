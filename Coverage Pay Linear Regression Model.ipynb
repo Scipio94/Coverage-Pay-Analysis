{
 "cells": [
  {
   "cell_type": "markdown",
   "id": "82864958",
   "metadata": {},
   "source": [
    "# Objective\n",
    "\n",
    "The goal of this model is to predict April and May's coverage pay totals."
   ]
  },
  {
   "cell_type": "code",
   "execution_count": 1,
   "id": "45fe923c",
   "metadata": {},
   "outputs": [],
   "source": [
    "#importing packages\n",
    "import pandas as pd \n",
    "import matplotlib.pyplot as plt \n",
    "import numpy as np\n",
    "import datetime as dt\n",
    "import seaborn as sns\n",
    "from statsmodels.formula.api import ols "
   ]
  },
  {
   "cell_type": "code",
   "execution_count": 2,
   "id": "ebb8581c",
   "metadata": {},
   "outputs": [],
   "source": [
    "#importing data\n",
    "df = pd.read_csv(r'/Users/scipio/Downloads/Untitled spreadsheet - Coverage Pay  (2).csv')"
   ]
  },
  {
   "cell_type": "code",
   "execution_count": 3,
   "id": "bd47d1b8",
   "metadata": {
    "scrolled": true
   },
   "outputs": [
    {
     "name": "stdout",
     "output_type": "stream",
     "text": [
      "<class 'pandas.core.frame.DataFrame'>\n",
      "RangeIndex: 8 entries, 0 to 7\n",
      "Data columns (total 3 columns):\n",
      " #   Column  Non-Null Count  Dtype  \n",
      "---  ------  --------------  -----  \n",
      " 0   Index   8 non-null      int64  \n",
      " 1   Month   8 non-null      object \n",
      " 2   Total   8 non-null      float64\n",
      "dtypes: float64(1), int64(1), object(1)\n",
      "memory usage: 320.0+ bytes\n"
     ]
    }
   ],
   "source": [
    "#dataset schema\n",
    "df.info()"
   ]
  },
  {
   "cell_type": "code",
   "execution_count": 4,
   "id": "f7ab7168",
   "metadata": {},
   "outputs": [
    {
     "data": {
      "text/plain": [
       "count        8.000000\n",
       "mean     21950.277500\n",
       "std       6975.403498\n",
       "min       5973.100000\n",
       "25%      20573.585000\n",
       "50%      24583.430000\n",
       "75%      25366.165000\n",
       "max      28501.860000\n",
       "Name: Total, dtype: float64"
      ]
     },
     "execution_count": 4,
     "metadata": {},
     "output_type": "execute_result"
    }
   ],
   "source": [
    "# Coverage Pay Total Statistical Metrics\n",
    "df['Total'].describe()"
   ]
  },
  {
   "cell_type": "code",
   "execution_count": 5,
   "id": "c5d98314",
   "metadata": {},
   "outputs": [
    {
     "data": {
      "image/png": "[encoded data removed]",
      "text/plain": [
       "<Figure size 1000x600 with 2 Axes>"
      ]
     },
     "metadata": {},
     "output_type": "display_data"
    }
   ],
   "source": [
    "# Coverage Pay Total Distribution\n",
    "fig, ax = plt.subplots(nrows =1 , ncols =2, figsize = (10,6))\n",
    "\n",
    "df['Total'].plot(kind = 'box', vert = False, ax = ax[0],title = 'Coverage Pay Monthly Total')\n",
    "df['Total'].plot(kind = 'hist', title = 'Coverage Pay Month Totals')\n",
    "\n",
    "plt.show()"
   ]
  },
  {
   "cell_type": "markdown",
   "id": "13a1b08b",
   "metadata": {},
   "source": [
    "There is a left skew in the data based on the histogram. Additonally, based on the box plot above there is a left skew in the data."
   ]
  },
  {
   "cell_type": "code",
   "execution_count": 6,
   "id": "d9176175",
   "metadata": {},
   "outputs": [
    {
     "name": "stdout",
     "output_type": "stream",
     "text": [
      "A month with greater than or equal to $32,555.04 in total coverage pay is considered to be an outlier. A month with less or equal to $13,384.71 is considered to be an outlier\n"
     ]
    }
   ],
   "source": [
    "# Coverage Pay Monthly Totsl Outliers\n",
    "_75 = df['Total'].quantile(.75)\n",
    "_25 = df['Total'].quantile(.25)\n",
    "IQR = _75 - _25\n",
    "\n",
    "Upper_Outlier = round(_75 + (1.5 * IQR ),2)\n",
    "Lower_Outlier = round(_25 - (1.5 * IQR ),2)\n",
    "print('A month with greater than or equal to',f\"${Upper_Outlier:,}\",\n",
    "      'in total coverage pay is considered to be an outlier. A month with less or equal to',\n",
    "     f\"${Lower_Outlier:,}\",'is considered to be an outlier')"
   ]
  },
  {
   "cell_type": "code",
   "execution_count": 7,
   "id": "589426c7",
   "metadata": {},
   "outputs": [
    {
     "data": {
      "text/html": [
       "<div>\n",
       "<style scoped>\n",
       "    .dataframe tbody tr th:only-of-type {\n",
       "        vertical-align: middle;\n",
       "    }\n",
       "\n",
       "    .dataframe tbody tr th {\n",
       "        vertical-align: top;\n",
       "    }\n",
       "\n",
       "    .dataframe thead th {\n",
       "        text-align: right;\n",
       "    }\n",
       "</style>\n",
       "<table border=\"1\" class=\"dataframe\">\n",
       "  <thead>\n",
       "    <tr style=\"text-align: right;\">\n",
       "      <th></th>\n",
       "      <th>Index</th>\n",
       "      <th>Month</th>\n",
       "      <th>Total</th>\n",
       "    </tr>\n",
       "  </thead>\n",
       "  <tbody>\n",
       "    <tr>\n",
       "      <th>0</th>\n",
       "      <td>0</td>\n",
       "      <td>August</td>\n",
       "      <td>5973.1</td>\n",
       "    </tr>\n",
       "  </tbody>\n",
       "</table>\n",
       "</div>"
      ],
      "text/plain": [
       "   Index   Month   Total\n",
       "0      0  August  5973.1"
      ]
     },
     "execution_count": 7,
     "metadata": {},
     "output_type": "execute_result"
    }
   ],
   "source": [
    "# Finding outliers in the dataset\n",
    "df[(df['Total']<= Lower_Outlier)| (df['Total']>= Upper_Outlier)] # <- filtering for outliers"
   ]
  },
  {
   "cell_type": "code",
   "execution_count": 8,
   "id": "7aecb4eb",
   "metadata": {
    "scrolled": true
   },
   "outputs": [
    {
     "data": {
      "text/html": [
       "<div>\n",
       "<style scoped>\n",
       "    .dataframe tbody tr th:only-of-type {\n",
       "        vertical-align: middle;\n",
       "    }\n",
       "\n",
       "    .dataframe tbody tr th {\n",
       "        vertical-align: top;\n",
       "    }\n",
       "\n",
       "    .dataframe thead th {\n",
       "        text-align: right;\n",
       "    }\n",
       "</style>\n",
       "<table border=\"1\" class=\"dataframe\">\n",
       "  <thead>\n",
       "    <tr style=\"text-align: right;\">\n",
       "      <th></th>\n",
       "      <th>Index</th>\n",
       "      <th>Month</th>\n",
       "      <th>Total</th>\n",
       "    </tr>\n",
       "  </thead>\n",
       "  <tbody>\n",
       "    <tr>\n",
       "      <th>1</th>\n",
       "      <td>1</td>\n",
       "      <td>September</td>\n",
       "      <td>20607.52</td>\n",
       "    </tr>\n",
       "    <tr>\n",
       "      <th>2</th>\n",
       "      <td>2</td>\n",
       "      <td>October</td>\n",
       "      <td>25589.32</td>\n",
       "    </tr>\n",
       "    <tr>\n",
       "      <th>3</th>\n",
       "      <td>3</td>\n",
       "      <td>November</td>\n",
       "      <td>24844.33</td>\n",
       "    </tr>\n",
       "    <tr>\n",
       "      <th>4</th>\n",
       "      <td>4</td>\n",
       "      <td>December</td>\n",
       "      <td>24322.53</td>\n",
       "    </tr>\n",
       "    <tr>\n",
       "      <th>5</th>\n",
       "      <td>5</td>\n",
       "      <td>January</td>\n",
       "      <td>20471.78</td>\n",
       "    </tr>\n",
       "    <tr>\n",
       "      <th>6</th>\n",
       "      <td>6</td>\n",
       "      <td>February</td>\n",
       "      <td>25291.78</td>\n",
       "    </tr>\n",
       "    <tr>\n",
       "      <th>7</th>\n",
       "      <td>7</td>\n",
       "      <td>March</td>\n",
       "      <td>28501.86</td>\n",
       "    </tr>\n",
       "  </tbody>\n",
       "</table>\n",
       "</div>"
      ],
      "text/plain": [
       "   Index      Month     Total\n",
       "1      1  September  20607.52\n",
       "2      2    October  25589.32\n",
       "3      3   November  24844.33\n",
       "4      4   December  24322.53\n",
       "5      5    January  20471.78\n",
       "6      6   February  25291.78\n",
       "7      7      March  28501.86"
      ]
     },
     "execution_count": 8,
     "metadata": {},
     "output_type": "execute_result"
    }
   ],
   "source": [
    "# Excluding outliers from the dataset\n",
    "df = df[~(df['Total']<= Lower_Outlier)| (df['Total']>= Upper_Outlier)]\n",
    "df"
   ]
  },
  {
   "cell_type": "code",
   "execution_count": 9,
   "id": "f32c77dd",
   "metadata": {
    "scrolled": true
   },
   "outputs": [],
   "source": [
    "#Creating model\n",
    "mdl_coverage_pay = ols('Total ~ Index', data = df).fit()"
   ]
  },
  {
   "cell_type": "code",
   "execution_count": 10,
   "id": "8fe576ca",
   "metadata": {},
   "outputs": [
    {
     "name": "stdout",
     "output_type": "stream",
     "text": [
      "Intercept    21559.104286\n",
      "Index          668.406786\n",
      "dtype: float64\n"
     ]
    }
   ],
   "source": [
    "# printing model parameters\n",
    "print(mdl_coverage_pay.params)"
   ]
  },
  {
   "cell_type": "code",
   "execution_count": 11,
   "id": "eaaed2bd",
   "metadata": {},
   "outputs": [
    {
     "data": {
      "image/png": "[encoded data removed]",
      "text/plain": [
       "<Figure size 640x480 with 1 Axes>"
      ]
     },
     "metadata": {},
     "output_type": "display_data"
    }
   ],
   "source": [
    "#Visualzing coverage pay data\n",
    "sns.scatterplot( x = 'Index',\n",
    "        y = 'Total',\n",
    "        data = df)\n",
    "\n",
    "sns.regplot(x = 'Index',\n",
    "           y = 'Total', \n",
    "            data = df,\n",
    "           ci = None)\n",
    "\n",
    "plt.show()"
   ]
  },
  {
   "cell_type": "code",
   "execution_count": 12,
   "id": "ae11af18",
   "metadata": {},
   "outputs": [
    {
     "data": {
      "text/html": [
       "<div>\n",
       "<style scoped>\n",
       "    .dataframe tbody tr th:only-of-type {\n",
       "        vertical-align: middle;\n",
       "    }\n",
       "\n",
       "    .dataframe tbody tr th {\n",
       "        vertical-align: top;\n",
       "    }\n",
       "\n",
       "    .dataframe thead th {\n",
       "        text-align: right;\n",
       "    }\n",
       "</style>\n",
       "<table border=\"1\" class=\"dataframe\">\n",
       "  <thead>\n",
       "    <tr style=\"text-align: right;\">\n",
       "      <th></th>\n",
       "      <th>Index</th>\n",
       "    </tr>\n",
       "  </thead>\n",
       "  <tbody>\n",
       "    <tr>\n",
       "      <th>0</th>\n",
       "      <td>8</td>\n",
       "    </tr>\n",
       "    <tr>\n",
       "      <th>1</th>\n",
       "      <td>9</td>\n",
       "    </tr>\n",
       "    <tr>\n",
       "      <th>2</th>\n",
       "      <td>10</td>\n",
       "    </tr>\n",
       "  </tbody>\n",
       "</table>\n",
       "</div>"
      ],
      "text/plain": [
       "   Index\n",
       "0      8\n",
       "1      9\n",
       "2     10"
      ]
     },
     "execution_count": 12,
     "metadata": {},
     "output_type": "execute_result"
    }
   ],
   "source": [
    "#Creating a dataframe for predictions\n",
    "explanatory_data = pd.DataFrame({'Index':np.arange(8,11)})\n",
    "explanatory_data.head()"
   ]
  },
  {
   "cell_type": "code",
   "execution_count": 13,
   "id": "94bf34ed",
   "metadata": {},
   "outputs": [
    {
     "name": "stdout",
     "output_type": "stream",
     "text": [
      "0    26906.0\n",
      "1    27575.0\n",
      "2    28243.0\n",
      "dtype: float64\n"
     ]
    }
   ],
   "source": [
    "#Predicting values\n",
    "print(round(mdl_coverage_pay.predict(explanatory_data)))"
   ]
  },
  {
   "cell_type": "code",
   "execution_count": 14,
   "id": "dbeb7d35",
   "metadata": {},
   "outputs": [
    {
     "data": {
      "text/html": [
       "<div>\n",
       "<style scoped>\n",
       "    .dataframe tbody tr th:only-of-type {\n",
       "        vertical-align: middle;\n",
       "    }\n",
       "\n",
       "    .dataframe tbody tr th {\n",
       "        vertical-align: top;\n",
       "    }\n",
       "\n",
       "    .dataframe thead th {\n",
       "        text-align: right;\n",
       "    }\n",
       "</style>\n",
       "<table border=\"1\" class=\"dataframe\">\n",
       "  <thead>\n",
       "    <tr style=\"text-align: right;\">\n",
       "      <th></th>\n",
       "      <th>Index</th>\n",
       "      <th>Total</th>\n",
       "    </tr>\n",
       "  </thead>\n",
       "  <tbody>\n",
       "    <tr>\n",
       "      <th>0</th>\n",
       "      <td>8</td>\n",
       "      <td>26906.0</td>\n",
       "    </tr>\n",
       "    <tr>\n",
       "      <th>1</th>\n",
       "      <td>9</td>\n",
       "      <td>27575.0</td>\n",
       "    </tr>\n",
       "    <tr>\n",
       "      <th>2</th>\n",
       "      <td>10</td>\n",
       "      <td>28243.0</td>\n",
       "    </tr>\n",
       "  </tbody>\n",
       "</table>\n",
       "</div>"
      ],
      "text/plain": [
       "   Index    Total\n",
       "0      8  26906.0\n",
       "1      9  27575.0\n",
       "2     10  28243.0"
      ]
     },
     "execution_count": 14,
     "metadata": {},
     "output_type": "execute_result"
    }
   ],
   "source": [
    "# Adding predicted values to dataframe\n",
    "prediction_data = explanatory_data.assign(Total = round(mdl_coverage_pay.predict(explanatory_data)))\n",
    "prediction_data"
   ]
  },
  {
   "cell_type": "code",
   "execution_count": 15,
   "id": "ba6fd7cf",
   "metadata": {},
   "outputs": [
    {
     "data": {
      "image/png": "[encoded data removed]",
      "text/plain": [
       "<Figure size 640x480 with 1 Axes>"
      ]
     },
     "metadata": {},
     "output_type": "display_data"
    }
   ],
   "source": [
    "#Displaying predictions\n",
    "plt.figure() # <- creating figure\n",
    "\n",
    "sns.regplot(x = 'Index', # <- plotting regression of dataset\n",
    "           y = 'Total', \n",
    "            data = df,\n",
    "           ci = None)\n",
    "\n",
    "sns.scatterplot(x = 'Index',\n",
    "               y = 'Total',\n",
    "               data = prediction_data,\n",
    "               color = 'red',\n",
    "               marker = 's')\n",
    "\n",
    "plt.show()\n"
   ]
  },
  {
   "cell_type": "code",
   "execution_count": 16,
   "id": "5d28467c",
   "metadata": {},
   "outputs": [
    {
     "name": "stdout",
     "output_type": "stream",
     "text": [
      "R-Squared: 0.26\n"
     ]
    }
   ],
   "source": [
    "print('R-Squared:',round(mdl_coverage_pay.rsquared,2))"
   ]
  },
  {
   "cell_type": "markdown",
   "id": "23283675",
   "metadata": {},
   "source": [
    "The R-Squared value is .26, which is less than ideal and is indicative due of the large number of variables, e.g. school days, vacancies, etc., affecting coverage pay submissions and overall monthly coverage pay totals."
   ]
  },
  {
   "cell_type": "code",
   "execution_count": 17,
   "id": "8a15e9c5",
   "metadata": {},
   "outputs": [
    {
     "name": "stdout",
     "output_type": "stream",
     "text": [
      "RSE: $2,696\n"
     ]
    }
   ],
   "source": [
    "mse = mdl_coverage_pay.mse_resid\n",
    "rse = round(np.sqrt(mse))\n",
    "print('RSE:',f'${rse:,}')"
   ]
  },
  {
   "cell_type": "markdown",
   "id": "37c1bece",
   "metadata": {},
   "source": [
    "The RSE is \\\\$2,696 $ meaning there is typically a \\\\$2,696 difference between observed and predicted values by the model."
   ]
  },
  {
   "cell_type": "code",
   "execution_count": 18,
   "id": "84865ad6",
   "metadata": {
    "scrolled": true
   },
   "outputs": [
    {
     "data": {
      "text/html": [
       "<div>\n",
       "<style scoped>\n",
       "    .dataframe tbody tr th:only-of-type {\n",
       "        vertical-align: middle;\n",
       "    }\n",
       "\n",
       "    .dataframe tbody tr th {\n",
       "        vertical-align: top;\n",
       "    }\n",
       "\n",
       "    .dataframe thead th {\n",
       "        text-align: right;\n",
       "    }\n",
       "</style>\n",
       "<table border=\"1\" class=\"dataframe\">\n",
       "  <thead>\n",
       "    <tr style=\"text-align: right;\">\n",
       "      <th></th>\n",
       "      <th>Index</th>\n",
       "      <th>Month</th>\n",
       "      <th>Lower Total</th>\n",
       "      <th>Total</th>\n",
       "      <th>Upper Total</th>\n",
       "    </tr>\n",
       "  </thead>\n",
       "  <tbody>\n",
       "    <tr>\n",
       "      <th>0</th>\n",
       "      <td>8</td>\n",
       "      <td>April</td>\n",
       "      <td>24210.0</td>\n",
       "      <td>26906.0</td>\n",
       "      <td>29602.0</td>\n",
       "    </tr>\n",
       "    <tr>\n",
       "      <th>1</th>\n",
       "      <td>9</td>\n",
       "      <td>May</td>\n",
       "      <td>24879.0</td>\n",
       "      <td>27575.0</td>\n",
       "      <td>30271.0</td>\n",
       "    </tr>\n",
       "    <tr>\n",
       "      <th>2</th>\n",
       "      <td>10</td>\n",
       "      <td>June</td>\n",
       "      <td>25547.0</td>\n",
       "      <td>28243.0</td>\n",
       "      <td>30939.0</td>\n",
       "    </tr>\n",
       "  </tbody>\n",
       "</table>\n",
       "</div>"
      ],
      "text/plain": [
       "   Index  Month  Lower Total    Total  Upper Total\n",
       "0      8  April      24210.0  26906.0      29602.0\n",
       "1      9    May      24879.0  27575.0      30271.0\n",
       "2     10   June      25547.0  28243.0      30939.0"
      ]
     },
     "execution_count": 18,
     "metadata": {},
     "output_type": "execute_result"
    }
   ],
   "source": [
    "# Prediction data data cleaning\n",
    "prediction_data['Month'] = ['April','May','June'] # <- Adding Months\n",
    "prediction_data['Upper Total'] = prediction_data['Total'] + rse # < - Creating upper range for prediction\n",
    "prediction_data['Lower Total'] = prediction_data['Total'] - rse # < - Creating lower range for prediction\n",
    "\n",
    "prediction_data[['Index','Month','Lower Total','Total','Upper Total']]"
   ]
  }
 ],
 "metadata": {
  "kernelspec": {
   "display_name": "Python 3 (ipykernel)",
   "language": "python",
   "name": "python3"
  },
  "language_info": {
   "codemirror_mode": {
    "name": "ipython",
    "version": 3
   },
   "file_extension": ".py",
   "mimetype": "text/x-python",
   "name": "python",
   "nbconvert_exporter": "python",
   "pygments_lexer": "ipython3",
   "version": "3.10.9"
  }
 },
 "nbformat": 4,
 "nbformat_minor": 5
}
