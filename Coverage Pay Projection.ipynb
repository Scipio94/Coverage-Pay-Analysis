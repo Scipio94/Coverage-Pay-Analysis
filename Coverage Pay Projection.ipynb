{
 "cells": [
  {
   "cell_type": "markdown",
   "id": "d044df57",
   "metadata": {},
   "source": [
    "## Coverage Pay Projection\n",
    "\n",
    "Projecting the estimated total cost of coverage pay for the remainder of the 23-24 school year using Meta's Prophet Python Package."
   ]
  },
  {
   "cell_type": "code",
   "execution_count": 2,
   "id": "a600aafd",
   "metadata": {},
   "outputs": [
    {
     "name": "stdout",
     "output_type": "stream",
     "text": [
      "Requirement already satisfied: prophet in c:\\users\\togarro\\appdata\\local\\anaconda3\\lib\\site-packages (1.1.5)\n",
      "Requirement already satisfied: numpy>=1.15.4 in c:\\users\\togarro\\appdata\\local\\anaconda3\\lib\\site-packages (from prophet) (1.23.5)\n",
      "Requirement already satisfied: importlib-resources in c:\\users\\togarro\\appdata\\local\\anaconda3\\lib\\site-packages (from prophet) (6.1.1)\n",
      "Requirement already satisfied: matplotlib>=2.0.0 in c:\\users\\togarro\\appdata\\local\\anaconda3\\lib\\site-packages (from prophet) (3.7.0)\n",
      "Requirement already satisfied: tqdm>=4.36.1 in c:\\users\\togarro\\appdata\\local\\anaconda3\\lib\\site-packages (from prophet) (4.64.1)\n",
      "Requirement already satisfied: pandas>=1.0.4 in c:\\users\\togarro\\appdata\\local\\anaconda3\\lib\\site-packages (from prophet) (1.5.3)\n",
      "Requirement already satisfied: cmdstanpy>=1.0.4 in c:\\users\\togarro\\appdata\\local\\anaconda3\\lib\\site-packages (from prophet) (1.2.0)\n",
      "Requirement already satisfied: holidays>=0.25 in c:\\users\\togarro\\appdata\\local\\anaconda3\\lib\\site-packages (from prophet) (0.37)\n",
      "Requirement already satisfied: stanio~=0.3.0 in c:\\users\\togarro\\appdata\\local\\anaconda3\\lib\\site-packages (from cmdstanpy>=1.0.4->prophet) (0.3.0)\n",
      "Requirement already satisfied: python-dateutil in c:\\users\\togarro\\appdata\\local\\anaconda3\\lib\\site-packages (from holidays>=0.25->prophet) (2.8.2)\n",
      "Requirement already satisfied: contourpy>=1.0.1 in c:\\users\\togarro\\appdata\\local\\anaconda3\\lib\\site-packages (from matplotlib>=2.0.0->prophet) (1.0.5)\n",
      "Requirement already satisfied: pyparsing>=2.3.1 in c:\\users\\togarro\\appdata\\local\\anaconda3\\lib\\site-packages (from matplotlib>=2.0.0->prophet) (3.0.9)\n",
      "Requirement already satisfied: cycler>=0.10 in c:\\users\\togarro\\appdata\\local\\anaconda3\\lib\\site-packages (from matplotlib>=2.0.0->prophet) (0.11.0)\n",
      "Requirement already satisfied: kiwisolver>=1.0.1 in c:\\users\\togarro\\appdata\\local\\anaconda3\\lib\\site-packages (from matplotlib>=2.0.0->prophet) (1.4.4)\n",
      "Requirement already satisfied: packaging>=20.0 in c:\\users\\togarro\\appdata\\local\\anaconda3\\lib\\site-packages (from matplotlib>=2.0.0->prophet) (22.0)\n",
      "Requirement already satisfied: pillow>=6.2.0 in c:\\users\\togarro\\appdata\\local\\anaconda3\\lib\\site-packages (from matplotlib>=2.0.0->prophet) (9.4.0)\n",
      "Requirement already satisfied: fonttools>=4.22.0 in c:\\users\\togarro\\appdata\\local\\anaconda3\\lib\\site-packages (from matplotlib>=2.0.0->prophet) (4.25.0)\n",
      "Requirement already satisfied: pytz>=2020.1 in c:\\users\\togarro\\appdata\\local\\anaconda3\\lib\\site-packages (from pandas>=1.0.4->prophet) (2022.7)\n",
      "Requirement already satisfied: colorama in c:\\users\\togarro\\appdata\\local\\anaconda3\\lib\\site-packages (from tqdm>=4.36.1->prophet) (0.4.6)\n",
      "Requirement already satisfied: six>=1.5 in c:\\users\\togarro\\appdata\\local\\anaconda3\\lib\\site-packages (from python-dateutil->holidays>=0.25->prophet) (1.16.0)\n"
     ]
    }
   ],
   "source": [
    "#installing Prophet\n",
    "!pip install prophet"
   ]
  },
  {
   "cell_type": "code",
   "execution_count": 3,
   "id": "3751655f",
   "metadata": {},
   "outputs": [],
   "source": [
    "#importing packages\n",
    "import pandas as pd \n",
    "import matplotlib.pyplot as plt \n",
    "import datetime as dt\n",
    "from prophet import Prophet"
   ]
  },
  {
   "cell_type": "code",
   "execution_count": 4,
   "id": "bce019ca",
   "metadata": {},
   "outputs": [],
   "source": [
    "#importing Q1 and Q2 Coverage Pay data\n",
    "Q1 = pd.read_csv(r\"C:\\Users\\togarro\\Downloads\\Coverage Tracker (Responses) - SQL Coverage Pay Dataset - Q1.csv\", parse_dates = ['Date', 'Date of Coverage'] )\n",
    "\n",
    "Q2 = pd.read_csv(r\"C:\\Users\\togarro\\Downloads\\Coverage Tracker (Responses) - Coverage Compensation - Q2.csv\", parse_dates = ['Date','Date of Coverage'])\n",
    "\n",
    "#Dropping columns \n",
    "Q1 = Q1.drop(columns = ['Email Address', 'Supervisor','Coverage Approval','Approved/Unapproved'])\n",
    "\n",
    "Q2 = Q2.drop(columns = ['Unnamed: 3', 'Unnamed: 4','Unnamed: 5', \n",
    "                        'Reference', 'Approved/Unapproved', 'Coverage Approval',\n",
    "                        'Supervisor', 'Email Address'])\n",
    "#concating dataframes\n",
    "half = pd.concat([Q1,Q2])"
   ]
  },
  {
   "cell_type": "code",
   "execution_count": 5,
   "id": "45bfac78",
   "metadata": {},
   "outputs": [],
   "source": [
    "#Type of Coverage Data Cleaning\n",
    "half['Type of Coverage'] = half['Type of Coverage'].replace('Class coverage (long term)','Long Term') \n",
    "half['Type of Coverage'] = half['Type of Coverage'].replace('Class coverage (short term)','Short Term')\n",
    "half['Type of Coverage'] = half['Type of Coverage'].replace('After School Program (Tutoring)','After School Program Tutoring')\n",
    "half['Type of Coverage'] = half['Type of Coverage'].replace('Non instructional','Non Instructional')"
   ]
  },
  {
   "cell_type": "code",
   "execution_count": 6,
   "id": "ce0fbf11",
   "metadata": {},
   "outputs": [],
   "source": [
    "#Name Data Cleaning\n",
    "half['Name'] = half['Name'].replace('Nikki Waligorski','Nicole Waligorski') \n",
    "half['Name'] = half['Name'].replace('Daphnir Cesar Joisil','Daphnir Cesar-Joisil') "
   ]
  },
  {
   "cell_type": "code",
   "execution_count": 7,
   "id": "e9b20c88",
   "metadata": {},
   "outputs": [
    {
     "name": "stdout",
     "output_type": "stream",
     "text": [
      "<class 'pandas.core.frame.DataFrame'>\n",
      "Int64Index: 1779 entries, 0 to 1193\n",
      "Data columns (total 8 columns):\n",
      " #   Column               Non-Null Count  Dtype         \n",
      "---  ------               --------------  -----         \n",
      " 0   Date                 1779 non-null   datetime64[ns]\n",
      " 1   Name                 1779 non-null   object        \n",
      " 2   Employee No          1779 non-null   int64         \n",
      " 3   Date of Coverage     1779 non-null   datetime64[ns]\n",
      " 4   Type of Coverage     1779 non-null   object        \n",
      " 5   Campus               1779 non-null   object        \n",
      " 6   Number of Coverages  1779 non-null   int64         \n",
      " 7   Total Compensation   1779 non-null   float64       \n",
      "dtypes: datetime64[ns](2), float64(1), int64(2), object(3)\n",
      "memory usage: 125.1+ KB\n"
     ]
    }
   ],
   "source": [
    "half.info()"
   ]
  },
  {
   "cell_type": "code",
   "execution_count": 8,
   "id": "75327fe7",
   "metadata": {},
   "outputs": [],
   "source": [
    "#defining variable for cutoff date in function\n",
    "cutoff_date = pd.to_datetime('2023-10-21')\n",
    "\n",
    "#Creating Quarter column\n",
    "def quarter(x):\n",
    "    if x < cutoff_date:\n",
    "        return 'Q1'\n",
    "    \n",
    "    else:\n",
    "        return 'Q2'\n",
    "        \n",
    "half['Quarter'] = half['Date of Coverage'].apply(lambda x: quarter(x))"
   ]
  },
  {
   "cell_type": "code",
   "execution_count": 9,
   "id": "944f17fb",
   "metadata": {},
   "outputs": [],
   "source": [
    "# #MoM Change\n",
    "# half['Year-Month'] = half['Date of Coverage'].dt.strftime('%Y-%m')"
   ]
  },
  {
   "cell_type": "code",
   "execution_count": 10,
   "id": "8a143068",
   "metadata": {},
   "outputs": [
    {
     "data": {
      "text/plain": [
       "min   2023-08-17\n",
       "max   2023-10-20\n",
       "Name: Date of Coverage, dtype: datetime64[ns]"
      ]
     },
     "execution_count": 10,
     "metadata": {},
     "output_type": "execute_result"
    }
   ],
   "source": [
    "# Q1 Date Range Validation\n",
    "Q1 = half[half['Quarter'] == 'Q1']\n",
    "Q1['Date of Coverage'].agg(['min', 'max'])"
   ]
  },
  {
   "cell_type": "code",
   "execution_count": 11,
   "id": "0e1afc31",
   "metadata": {},
   "outputs": [
    {
     "data": {
      "text/plain": [
       "min   2023-10-23\n",
       "max   2024-01-18\n",
       "Name: Date of Coverage, dtype: datetime64[ns]"
      ]
     },
     "execution_count": 11,
     "metadata": {},
     "output_type": "execute_result"
    }
   ],
   "source": [
    "#Q2 Date Range Validation\n",
    "Q2 = half[half['Quarter'] == 'Q2']\n",
    "Q2['Date of Coverage'].agg(['min', 'max'])"
   ]
  },
  {
   "cell_type": "code",
   "execution_count": 12,
   "id": "e28a21e1",
   "metadata": {},
   "outputs": [
    {
     "data": {
      "text/plain": [
       "(1779, 9)"
      ]
     },
     "execution_count": 12,
     "metadata": {},
     "output_type": "execute_result"
    }
   ],
   "source": [
    "half.shape"
   ]
  },
  {
   "cell_type": "code",
   "execution_count": 13,
   "id": "a971f527",
   "metadata": {},
   "outputs": [
    {
     "data": {
      "text/html": [
       "<div>\n",
       "<style scoped>\n",
       "    .dataframe tbody tr th:only-of-type {\n",
       "        vertical-align: middle;\n",
       "    }\n",
       "\n",
       "    .dataframe tbody tr th {\n",
       "        vertical-align: top;\n",
       "    }\n",
       "\n",
       "    .dataframe thead th {\n",
       "        text-align: right;\n",
       "    }\n",
       "</style>\n",
       "<table border=\"1\" class=\"dataframe\">\n",
       "  <thead>\n",
       "    <tr style=\"text-align: right;\">\n",
       "      <th></th>\n",
       "      <th>Date</th>\n",
       "      <th>Name</th>\n",
       "      <th>Employee No</th>\n",
       "      <th>Date of Coverage</th>\n",
       "      <th>Type of Coverage</th>\n",
       "      <th>Campus</th>\n",
       "      <th>Number of Coverages</th>\n",
       "      <th>Total Compensation</th>\n",
       "      <th>Quarter</th>\n",
       "    </tr>\n",
       "  </thead>\n",
       "  <tbody>\n",
       "  </tbody>\n",
       "</table>\n",
       "</div>"
      ],
      "text/plain": [
       "Empty DataFrame\n",
       "Columns: [Date, Name, Employee No, Date of Coverage, Type of Coverage, Campus, Number of Coverages, Total Compensation, Quarter]\n",
       "Index: []"
      ]
     },
     "execution_count": 13,
     "metadata": {},
     "output_type": "execute_result"
    }
   ],
   "source": [
    "half[half.duplicated()]"
   ]
  },
  {
   "cell_type": "markdown",
   "id": "16687eca",
   "metadata": {},
   "source": [
    "No duplicates"
   ]
  },
  {
   "cell_type": "code",
   "execution_count": 14,
   "id": "57a00197",
   "metadata": {},
   "outputs": [
    {
     "data": {
      "text/plain": [
       "count      93.00\n",
       "mean     1223.00\n",
       "std      1669.34\n",
       "min        25.00\n",
       "25%       150.00\n",
       "50%       450.00\n",
       "75%      1445.00\n",
       "max      7530.00\n",
       "Name: Total Compensation, dtype: float64"
      ]
     },
     "execution_count": 14,
     "metadata": {},
     "output_type": "execute_result"
    }
   ],
   "source": [
    "#Data Cleaning\n",
    "half['Name'] = half['Name'].str.title()\n",
    "\n",
    "#Statistical Metrics\n",
    "round(half.groupby('Name')['Total Compensation'].sum().describe(),2)"
   ]
  },
  {
   "cell_type": "code",
   "execution_count": 15,
   "id": "7786f8d4",
   "metadata": {},
   "outputs": [],
   "source": [
    "#Creating a Year-Month column\n",
    "half['Year-Month'] = half['Date of Coverage'].dt.strftime('%Y-%m')"
   ]
  },
  {
   "cell_type": "code",
   "execution_count": 16,
   "id": "821762a4",
   "metadata": {},
   "outputs": [],
   "source": [
    "#Grouping Coverage Pay by month\n",
    "month = half.groupby('Year-Month')['Total Compensation'].sum().reset_index()\n",
    "month.rename(columns = {'Year-Month':'ds','Total Compensation':'y'},inplace = True)"
   ]
  },
  {
   "cell_type": "code",
   "execution_count": 17,
   "id": "6ccaa239",
   "metadata": {},
   "outputs": [
    {
     "name": "stderr",
     "output_type": "stream",
     "text": [
      "09:47:50 - cmdstanpy - INFO - Chain [1] start processing\n",
      "09:47:50 - cmdstanpy - INFO - Chain [1] done processing\n"
     ]
    },
    {
     "data": {
      "image/png": "[encoded data removed]",
      "text/plain": [
       "<Figure size 1000x600 with 1 Axes>"
      ]
     },
     "metadata": {},
     "output_type": "display_data"
    }
   ],
   "source": [
    "#instantiate prophet object\n",
    "model = Prophet(interval_width = 0.95)\n",
    "\n",
    "#fitting model\n",
    "model.fit(month)\n",
    "\n",
    "future_month = model.make_future_dataframe(periods = 6, freq = 'MS')\n",
    "\n",
    "forecast_month = model.predict(future_month)\n",
    "\n",
    "fig1 = model.plot(forecast_month, uncertainty = True)\n",
    "\n",
    "plt.show()"
   ]
  },
  {
   "cell_type": "code",
   "execution_count": 23,
   "id": "6a1554d8",
   "metadata": {
    "scrolled": true
   },
   "outputs": [
    {
     "data": {
      "text/html": [
       "<div>\n",
       "<style scoped>\n",
       "    .dataframe tbody tr th:only-of-type {\n",
       "        vertical-align: middle;\n",
       "    }\n",
       "\n",
       "    .dataframe tbody tr th {\n",
       "        vertical-align: top;\n",
       "    }\n",
       "\n",
       "    .dataframe thead th {\n",
       "        text-align: right;\n",
       "    }\n",
       "</style>\n",
       "<table border=\"1\" class=\"dataframe\">\n",
       "  <thead>\n",
       "    <tr style=\"text-align: right;\">\n",
       "      <th></th>\n",
       "      <th>ds</th>\n",
       "      <th>yhat_lower</th>\n",
       "      <th>yhat</th>\n",
       "      <th>yhat_upper</th>\n",
       "    </tr>\n",
       "  </thead>\n",
       "  <tbody>\n",
       "    <tr>\n",
       "      <th>0</th>\n",
       "      <td>2023-08-01</td>\n",
       "      <td>2288.34</td>\n",
       "      <td>15583.69</td>\n",
       "      <td>28183.38</td>\n",
       "    </tr>\n",
       "    <tr>\n",
       "      <th>1</th>\n",
       "      <td>2023-09-01</td>\n",
       "      <td>3971.40</td>\n",
       "      <td>16952.62</td>\n",
       "      <td>30442.17</td>\n",
       "    </tr>\n",
       "    <tr>\n",
       "      <th>2</th>\n",
       "      <td>2023-10-01</td>\n",
       "      <td>5778.29</td>\n",
       "      <td>18277.40</td>\n",
       "      <td>30884.87</td>\n",
       "    </tr>\n",
       "    <tr>\n",
       "      <th>3</th>\n",
       "      <td>2023-11-01</td>\n",
       "      <td>7065.10</td>\n",
       "      <td>19646.33</td>\n",
       "      <td>32351.65</td>\n",
       "    </tr>\n",
       "    <tr>\n",
       "      <th>4</th>\n",
       "      <td>2023-12-01</td>\n",
       "      <td>7402.00</td>\n",
       "      <td>20971.11</td>\n",
       "      <td>33280.75</td>\n",
       "    </tr>\n",
       "    <tr>\n",
       "      <th>5</th>\n",
       "      <td>2024-01-01</td>\n",
       "      <td>9848.64</td>\n",
       "      <td>22340.04</td>\n",
       "      <td>34075.85</td>\n",
       "    </tr>\n",
       "    <tr>\n",
       "      <th>6</th>\n",
       "      <td>2024-02-01</td>\n",
       "      <td>11024.43</td>\n",
       "      <td>23708.97</td>\n",
       "      <td>36330.58</td>\n",
       "    </tr>\n",
       "    <tr>\n",
       "      <th>7</th>\n",
       "      <td>2024-03-01</td>\n",
       "      <td>12476.69</td>\n",
       "      <td>24989.59</td>\n",
       "      <td>37094.53</td>\n",
       "    </tr>\n",
       "    <tr>\n",
       "      <th>8</th>\n",
       "      <td>2024-04-01</td>\n",
       "      <td>13464.69</td>\n",
       "      <td>26358.52</td>\n",
       "      <td>38498.71</td>\n",
       "    </tr>\n",
       "    <tr>\n",
       "      <th>9</th>\n",
       "      <td>2024-05-01</td>\n",
       "      <td>15069.89</td>\n",
       "      <td>27683.30</td>\n",
       "      <td>40323.24</td>\n",
       "    </tr>\n",
       "    <tr>\n",
       "      <th>10</th>\n",
       "      <td>2024-06-01</td>\n",
       "      <td>16279.21</td>\n",
       "      <td>29052.23</td>\n",
       "      <td>41910.40</td>\n",
       "    </tr>\n",
       "    <tr>\n",
       "      <th>11</th>\n",
       "      <td>2024-07-01</td>\n",
       "      <td>17646.11</td>\n",
       "      <td>30377.00</td>\n",
       "      <td>42629.72</td>\n",
       "    </tr>\n",
       "  </tbody>\n",
       "</table>\n",
       "</div>"
      ],
      "text/plain": [
       "           ds  yhat_lower      yhat  yhat_upper\n",
       "0  2023-08-01     2288.34  15583.69    28183.38\n",
       "1  2023-09-01     3971.40  16952.62    30442.17\n",
       "2  2023-10-01     5778.29  18277.40    30884.87\n",
       "3  2023-11-01     7065.10  19646.33    32351.65\n",
       "4  2023-12-01     7402.00  20971.11    33280.75\n",
       "5  2024-01-01     9848.64  22340.04    34075.85\n",
       "6  2024-02-01    11024.43  23708.97    36330.58\n",
       "7  2024-03-01    12476.69  24989.59    37094.53\n",
       "8  2024-04-01    13464.69  26358.52    38498.71\n",
       "9  2024-05-01    15069.89  27683.30    40323.24\n",
       "10 2024-06-01    16279.21  29052.23    41910.40\n",
       "11 2024-07-01    17646.11  30377.00    42629.72"
      ]
     },
     "execution_count": 23,
     "metadata": {},
     "output_type": "execute_result"
    }
   ],
   "source": [
    "coverage_projection = round(forecast_month[['ds','yhat_lower', 'yhat','yhat_upper']],2)\n",
    "coverage_projection"
   ]
  },
  {
   "cell_type": "code",
   "execution_count": 21,
   "id": "5158d0c9",
   "metadata": {},
   "outputs": [],
   "source": [
    "# coverage_projection.to_csv('Coverage Pay Projection.csv', index = False, header = True,encoding = 'utf-8' )"
   ]
  },
  {
   "cell_type": "markdown",
   "id": "8d5f51e8",
   "metadata": {},
   "source": [
    "The values above reflect a confidence interval of 95%, meaning that there is a 95% chance that the values will fall in the range of the predicted values based on the model."
   ]
  }
 ],
 "metadata": {
  "kernelspec": {
   "display_name": "Python 3 (ipykernel)",
   "language": "python",
   "name": "python3"
  },
  "language_info": {
   "codemirror_mode": {
    "name": "ipython",
    "version": 3
   },
   "file_extension": ".py",
   "mimetype": "text/x-python",
   "name": "python",
   "nbconvert_exporter": "python",
   "pygments_lexer": "ipython3",
   "version": "3.10.9"
  }
 },
 "nbformat": 4,
 "nbformat_minor": 5
}
