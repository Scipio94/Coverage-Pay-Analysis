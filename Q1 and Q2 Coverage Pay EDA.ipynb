{
 "cells": [
  {
   "cell_type": "markdown",
   "id": "d044df57",
   "metadata": {},
   "source": [
    "## Coverage Pay EDA\n",
    "\n",
    "EDA of coverage pay data for two quarters, Q1, August 17, 2023 to October 20, 2023, and Q2, October 21, 2023 to January 19, 2024."
   ]
  },
  {
   "cell_type": "code",
   "execution_count": 2,
   "id": "3751655f",
   "metadata": {},
   "outputs": [],
   "source": [
    "#importing packages\n",
    "import pandas as pd \n",
    "import matplotlib.pyplot as plt \n",
    "import datetime as dt"
   ]
  },
  {
   "cell_type": "code",
   "execution_count": 4,
   "id": "bce019ca",
   "metadata": {},
   "outputs": [],
   "source": [
    "#importing Q1 and Q2 Coverage Pay data\n",
    "Q1 = pd.read_csv(r\"C:\\Users\\togarro\\Downloads\\Coverage Tracker (Responses) - SQL Coverage Pay Dataset - Q1.csv\", parse_dates = ['Date', 'Date of Coverage'] )\n",
    "\n",
    "Q2 = pd.read_csv(r\"C:\\Users\\togarro\\Downloads\\Coverage Tracker (Responses) - Coverage Compensation - Q2.csv\", parse_dates = ['Date','Date of Coverage'])\n",
    "\n",
    "#Dropping columns \n",
    "Q1 = Q1.drop(columns = ['Email Address', 'Supervisor','Coverage Approval','Approved/Unapproved'])\n",
    "\n",
    "Q2 = Q2.drop(columns = ['Unnamed: 3', 'Unnamed: 4','Unnamed: 5', \n",
    "                        'Reference', 'Approved/Unapproved', 'Coverage Approval',\n",
    "                        'Supervisor', 'Email Address'])\n",
    "#concating dataframes\n",
    "half = pd.concat([Q1,Q2])"
   ]
  },
  {
   "cell_type": "code",
   "execution_count": 38,
   "id": "45bfac78",
   "metadata": {},
   "outputs": [],
   "source": [
    "#Type of Coverage Data Cleaning\n",
    "half['Type of Coverage'] = half['Type of Coverage'].replace('Class coverage (long term)','Long Term') \n",
    "half['Type of Coverage'] = half['Type of Coverage'].replace('Class coverage (short term)','Short Term')\n",
    "half['Type of Coverage'] = half['Type of Coverage'].replace('After School Program (Tutoring)','After School Program Tutoring')\n",
    "half['Type of Coverage'] = half['Type of Coverage'].replace('Non instructional','Non Instructional')"
   ]
  },
  {
   "cell_type": "code",
   "execution_count": 8,
   "id": "e9b20c88",
   "metadata": {},
   "outputs": [
    {
     "name": "stdout",
     "output_type": "stream",
     "text": [
      "<class 'pandas.core.frame.DataFrame'>\n",
      "Int64Index: 1779 entries, 0 to 1193\n",
      "Data columns (total 8 columns):\n",
      " #   Column               Non-Null Count  Dtype         \n",
      "---  ------               --------------  -----         \n",
      " 0   Date                 1779 non-null   datetime64[ns]\n",
      " 1   Name                 1779 non-null   object        \n",
      " 2   Employee No          1779 non-null   int64         \n",
      " 3   Date of Coverage     1779 non-null   datetime64[ns]\n",
      " 4   Type of Coverage     1779 non-null   object        \n",
      " 5   Campus               1779 non-null   object        \n",
      " 6   Number of Coverages  1779 non-null   int64         \n",
      " 7   Total Compensation   1779 non-null   float64       \n",
      "dtypes: datetime64[ns](2), float64(1), int64(2), object(3)\n",
      "memory usage: 125.1+ KB\n"
     ]
    }
   ],
   "source": [
    "half.info()"
   ]
  },
  {
   "cell_type": "code",
   "execution_count": 23,
   "id": "75327fe7",
   "metadata": {},
   "outputs": [],
   "source": [
    "#defining variable for cutoff date in function\n",
    "cutoff_date = pd.to_datetime('2023-10-21')\n",
    "\n",
    "#Creating Quarter column\n",
    "def quarter(x):\n",
    "    if x < cutoff_date:\n",
    "        return 'Q1'\n",
    "    \n",
    "    else:\n",
    "        return 'Q2'\n",
    "        \n",
    "half['Quarter'] = half['Date of Coverage'].apply(lambda x: quarter(x))"
   ]
  },
  {
   "cell_type": "code",
   "execution_count": 27,
   "id": "8a143068",
   "metadata": {},
   "outputs": [
    {
     "data": {
      "text/plain": [
       "min   2023-08-17\n",
       "max   2023-10-20\n",
       "Name: Date of Coverage, dtype: datetime64[ns]"
      ]
     },
     "execution_count": 27,
     "metadata": {},
     "output_type": "execute_result"
    }
   ],
   "source": [
    "# Q1 Date Range Validation\n",
    "Q1 = half[half['Quarter'] == 'Q1']\n",
    "Q1['Date of Coverage'].agg(['min', 'max'])"
   ]
  },
  {
   "cell_type": "code",
   "execution_count": 26,
   "id": "0e1afc31",
   "metadata": {},
   "outputs": [
    {
     "data": {
      "text/plain": [
       "min   2023-10-23\n",
       "max   2024-01-18\n",
       "Name: Date of Coverage, dtype: datetime64[ns]"
      ]
     },
     "execution_count": 26,
     "metadata": {},
     "output_type": "execute_result"
    }
   ],
   "source": [
    "#Q2 Date Range Validation\n",
    "Q2 = half[half['Quarter'] == 'Q2']\n",
    "Q2['Date of Coverage'].agg(['min', 'max'])"
   ]
  },
  {
   "cell_type": "code",
   "execution_count": 9,
   "id": "e28a21e1",
   "metadata": {},
   "outputs": [
    {
     "data": {
      "text/plain": [
       "(1779, 8)"
      ]
     },
     "execution_count": 9,
     "metadata": {},
     "output_type": "execute_result"
    }
   ],
   "source": [
    "half.shape"
   ]
  },
  {
   "cell_type": "code",
   "execution_count": 12,
   "id": "a971f527",
   "metadata": {},
   "outputs": [
    {
     "data": {
      "text/html": [
       "<div>\n",
       "<style scoped>\n",
       "    .dataframe tbody tr th:only-of-type {\n",
       "        vertical-align: middle;\n",
       "    }\n",
       "\n",
       "    .dataframe tbody tr th {\n",
       "        vertical-align: top;\n",
       "    }\n",
       "\n",
       "    .dataframe thead th {\n",
       "        text-align: right;\n",
       "    }\n",
       "</style>\n",
       "<table border=\"1\" class=\"dataframe\">\n",
       "  <thead>\n",
       "    <tr style=\"text-align: right;\">\n",
       "      <th></th>\n",
       "      <th>Date</th>\n",
       "      <th>Name</th>\n",
       "      <th>Employee No</th>\n",
       "      <th>Date of Coverage</th>\n",
       "      <th>Type of Coverage</th>\n",
       "      <th>Campus</th>\n",
       "      <th>Number of Coverages</th>\n",
       "      <th>Total Compensation</th>\n",
       "    </tr>\n",
       "  </thead>\n",
       "  <tbody>\n",
       "  </tbody>\n",
       "</table>\n",
       "</div>"
      ],
      "text/plain": [
       "Empty DataFrame\n",
       "Columns: [Date, Name, Employee No, Date of Coverage, Type of Coverage, Campus, Number of Coverages, Total Compensation]\n",
       "Index: []"
      ]
     },
     "execution_count": 12,
     "metadata": {},
     "output_type": "execute_result"
    }
   ],
   "source": [
    "half[half.duplicated()]"
   ]
  },
  {
   "cell_type": "markdown",
   "id": "16687eca",
   "metadata": {},
   "source": [
    "No duplicates"
   ]
  },
  {
   "cell_type": "code",
   "execution_count": 73,
   "id": "57a00197",
   "metadata": {},
   "outputs": [
    {
     "data": {
      "text/plain": [
       "count      95.00\n",
       "mean     1197.25\n",
       "std      1657.15\n",
       "min        25.00\n",
       "25%       142.50\n",
       "50%       429.59\n",
       "75%      1387.50\n",
       "max      7530.00\n",
       "Name: Total Compensation, dtype: float64"
      ]
     },
     "execution_count": 73,
     "metadata": {},
     "output_type": "execute_result"
    }
   ],
   "source": [
    "#Data Cleaning\n",
    "half['Name'] = half['Name'].str.title()\n",
    "\n",
    "#Statistical Metrics\n",
    "round(half.groupby('Name')['Total Compensation'].sum().describe(),2)"
   ]
  },
  {
   "cell_type": "code",
   "execution_count": 192,
   "id": "6eb09aaf",
   "metadata": {},
   "outputs": [
    {
     "data": {
      "text/plain": [
       "<Axes: title={'center': 'Coverage Pay Compensation Box Plot'}>"
      ]
     },
     "execution_count": 192,
     "metadata": {},
     "output_type": "execute_result"
    },
    {
     "data": {
      "image/png": "[encoded data removed]",
      "text/plain": [
       "<Figure size 1000x600 with 2 Axes>"
      ]
     },
     "metadata": {},
     "output_type": "display_data"
    }
   ],
   "source": [
    "fig, ax = plt.subplots(nrows = 2, ncols = 1, figsize = (10,6))\n",
    "\n",
    "half.groupby('Name')['Total Compensation'].sum().plot(kind = 'hist', ax = ax[0], title  = 'Coverage Pay Compensation Histogram')\n",
    "half.groupby('Name')['Total Compensation'].sum().plot(kind = 'box', vert = False, ax = ax[1], title = 'Coverage Pay Compensation Box Plot')"
   ]
  },
  {
   "cell_type": "markdown",
   "id": "c680cdec",
   "metadata": {},
   "source": [
    "There is a right skew in the data as majority of the total compensation is below 2,000 USD. However, there are outliers in the data increasing the mean of the dataset."
   ]
  },
  {
   "cell_type": "code",
   "execution_count": 29,
   "id": "814eb80e",
   "metadata": {},
   "outputs": [
    {
     "data": {
      "text/plain": [
       "113739.08"
      ]
     },
     "execution_count": 29,
     "metadata": {},
     "output_type": "execute_result"
    }
   ],
   "source": [
    "round(half['Total Compensation'].sum(),2)"
   ]
  },
  {
   "cell_type": "markdown",
   "id": "6378fca1",
   "metadata": {},
   "source": [
    "In Q1 and Q2 the total amount paid to staff for coverage pay was 113,739.08 USD"
   ]
  },
  {
   "cell_type": "code",
   "execution_count": 87,
   "id": "527dd03c",
   "metadata": {},
   "outputs": [
    {
     "data": {
      "text/plain": [
       "3255.0"
      ]
     },
     "execution_count": 87,
     "metadata": {},
     "output_type": "execute_result"
    }
   ],
   "source": [
    "#Outliers\n",
    "Q3 = 1387.50\n",
    "Q1 = 142.50\n",
    "IQR = Q3 - Q1\n",
    "\n",
    "Outliers_Upper = Q3 + (IQR * 1.5)\n",
    "Outliers_Upper"
   ]
  },
  {
   "cell_type": "markdown",
   "id": "06db50ae",
   "metadata": {},
   "source": [
    "Employees that have recieved greater than or equal to 3,255.00 USD are outliers."
   ]
  },
  {
   "cell_type": "code",
   "execution_count": 99,
   "id": "8dca2de4",
   "metadata": {},
   "outputs": [
    {
     "data": {
      "text/plain": [
       "16"
      ]
     },
     "execution_count": 99,
     "metadata": {},
     "output_type": "execute_result"
    }
   ],
   "source": [
    "#Finding Outlier values\n",
    "Total_Emp_Comp = half.groupby('Name')['Total Compensation'].sum().reset_index().sort_values(by = 'Total Compensation', ascending = False)\n",
    "Total_Emp_Comp[Total_Emp_Comp['Total Compensation'] > Outliers_Upper ].shape[0]"
   ]
  },
  {
   "cell_type": "code",
   "execution_count": 343,
   "id": "b5f3463b",
   "metadata": {
    "scrolled": true
   },
   "outputs": [
    {
     "data": {
      "text/html": [
       "<div>\n",
       "<style scoped>\n",
       "    .dataframe tbody tr th:only-of-type {\n",
       "        vertical-align: middle;\n",
       "    }\n",
       "\n",
       "    .dataframe tbody tr th {\n",
       "        vertical-align: top;\n",
       "    }\n",
       "\n",
       "    .dataframe thead th {\n",
       "        text-align: right;\n",
       "    }\n",
       "</style>\n",
       "<table border=\"1\" class=\"dataframe\">\n",
       "  <thead>\n",
       "    <tr style=\"text-align: right;\">\n",
       "      <th></th>\n",
       "      <th>Name</th>\n",
       "      <th>Total Compensation</th>\n",
       "    </tr>\n",
       "  </thead>\n",
       "  <tbody>\n",
       "    <tr>\n",
       "      <th>27</th>\n",
       "      <td>Danae Williams</td>\n",
       "      <td>7530.00</td>\n",
       "    </tr>\n",
       "    <tr>\n",
       "      <th>64</th>\n",
       "      <td>Margarita Medina</td>\n",
       "      <td>5896.22</td>\n",
       "    </tr>\n",
       "    <tr>\n",
       "      <th>25</th>\n",
       "      <td>Courtney Agyeman</td>\n",
       "      <td>5421.87</td>\n",
       "    </tr>\n",
       "    <tr>\n",
       "      <th>28</th>\n",
       "      <td>Daneena Dixon</td>\n",
       "      <td>5348.34</td>\n",
       "    </tr>\n",
       "    <tr>\n",
       "      <th>86</th>\n",
       "      <td>Summiya Abdul-Quddus</td>\n",
       "      <td>5180.00</td>\n",
       "    </tr>\n",
       "    <tr>\n",
       "      <th>32</th>\n",
       "      <td>Denise Bembry</td>\n",
       "      <td>4765.00</td>\n",
       "    </tr>\n",
       "    <tr>\n",
       "      <th>49</th>\n",
       "      <td>Jessica Yentema</td>\n",
       "      <td>4330.00</td>\n",
       "    </tr>\n",
       "    <tr>\n",
       "      <th>11</th>\n",
       "      <td>Bridget Lewis</td>\n",
       "      <td>4160.00</td>\n",
       "    </tr>\n",
       "    <tr>\n",
       "      <th>1</th>\n",
       "      <td>Alice Lubrano</td>\n",
       "      <td>4102.28</td>\n",
       "    </tr>\n",
       "    <tr>\n",
       "      <th>15</th>\n",
       "      <td>Calvin Mcrae</td>\n",
       "      <td>4022.21</td>\n",
       "    </tr>\n",
       "    <tr>\n",
       "      <th>90</th>\n",
       "      <td>Vianney Anzures</td>\n",
       "      <td>4000.00</td>\n",
       "    </tr>\n",
       "    <tr>\n",
       "      <th>65</th>\n",
       "      <td>Matthew Triolo</td>\n",
       "      <td>3739.99</td>\n",
       "    </tr>\n",
       "    <tr>\n",
       "      <th>84</th>\n",
       "      <td>Siani Crowell</td>\n",
       "      <td>3685.00</td>\n",
       "    </tr>\n",
       "    <tr>\n",
       "      <th>44</th>\n",
       "      <td>Isiah Jones</td>\n",
       "      <td>3430.97</td>\n",
       "    </tr>\n",
       "    <tr>\n",
       "      <th>40</th>\n",
       "      <td>Georgette Davis</td>\n",
       "      <td>3335.00</td>\n",
       "    </tr>\n",
       "    <tr>\n",
       "      <th>46</th>\n",
       "      <td>Jacqueline Martinez</td>\n",
       "      <td>3300.00</td>\n",
       "    </tr>\n",
       "  </tbody>\n",
       "</table>\n",
       "</div>"
      ],
      "text/plain": [
       "                    Name  Total Compensation\n",
       "27        Danae Williams             7530.00\n",
       "64      Margarita Medina             5896.22\n",
       "25      Courtney Agyeman             5421.87\n",
       "28         Daneena Dixon             5348.34\n",
       "86  Summiya Abdul-Quddus             5180.00\n",
       "32         Denise Bembry             4765.00\n",
       "49       Jessica Yentema             4330.00\n",
       "11         Bridget Lewis             4160.00\n",
       "1          Alice Lubrano             4102.28\n",
       "15          Calvin Mcrae             4022.21\n",
       "90       Vianney Anzures             4000.00\n",
       "65        Matthew Triolo             3739.99\n",
       "84         Siani Crowell             3685.00\n",
       "44           Isiah Jones             3430.97\n",
       "40       Georgette Davis             3335.00\n",
       "46   Jacqueline Martinez             3300.00"
      ]
     },
     "execution_count": 343,
     "metadata": {},
     "output_type": "execute_result"
    }
   ],
   "source": [
    "#Outlier Employee List\n",
    "Total_Emp_Comp[Total_Emp_Comp['Total Compensation'] > Outliers_Upper ]"
   ]
  },
  {
   "cell_type": "markdown",
   "id": "2697980c",
   "metadata": {},
   "source": [
    "There are 16 outliers in the dataset. With the highest compensation total being 7,530.00 USD."
   ]
  },
  {
   "cell_type": "code",
   "execution_count": 294,
   "id": "84e66430",
   "metadata": {},
   "outputs": [
    {
     "data": {
      "image/png": "[encoded data removed]",
      "text/plain": [
       "<Figure size 640x480 with 1 Axes>"
      ]
     },
     "metadata": {},
     "output_type": "display_data"
    }
   ],
   "source": [
    "Quarter_Total = half.groupby('Quarter')['Total Compensation'].sum().reset_index()\n",
    "Quarter_Total = Quarter_Total.set_index('Quarter')\n",
    "Quarter_Total['Diff'] = Quarter_Total['Total Compensation'].diff().fillna(0)\n",
    "Quarter_Total['Pct Change'] = round(Quarter_Total['Total Compensation'].pct_change().fillna(0),2)\n",
    "\n",
    "colors = ['blue', 'red']\n",
    "Quarter_Total['Total Compensation'].plot(kind = 'bar', rot = 0, title = 'Quarter Compensation Compraison', ylabel = 'Total Compensation', color = colors)\n",
    "\n",
    "for index, value in enumerate (Quarter_Total['Total Compensation']):\n",
    "    plt.text(index,value, str(value), ha = 'center')\n",
    "\n",
    "plt.show()"
   ]
  },
  {
   "cell_type": "markdown",
   "id": "51013d14",
   "metadata": {},
   "source": [
    "In Quarter 2 there was a 24,516.72 USD, approximately a 55 percent, increase in coverage pay."
   ]
  },
  {
   "cell_type": "code",
   "execution_count": 147,
   "id": "bbbdd666",
   "metadata": {},
   "outputs": [
    {
     "data": {
      "text/html": [
       "<div>\n",
       "<style scoped>\n",
       "    .dataframe tbody tr th:only-of-type {\n",
       "        vertical-align: middle;\n",
       "    }\n",
       "\n",
       "    .dataframe tbody tr th {\n",
       "        vertical-align: top;\n",
       "    }\n",
       "\n",
       "    .dataframe thead th {\n",
       "        text-align: right;\n",
       "    }\n",
       "</style>\n",
       "<table border=\"1\" class=\"dataframe\">\n",
       "  <thead>\n",
       "    <tr style=\"text-align: right;\">\n",
       "      <th></th>\n",
       "      <th>Total Compensation</th>\n",
       "      <th>Diff</th>\n",
       "      <th>Pct Change</th>\n",
       "    </tr>\n",
       "    <tr>\n",
       "      <th>Quarter</th>\n",
       "      <th></th>\n",
       "      <th></th>\n",
       "      <th></th>\n",
       "    </tr>\n",
       "  </thead>\n",
       "  <tbody>\n",
       "    <tr>\n",
       "      <th>Q1</th>\n",
       "      <td>44611.18</td>\n",
       "      <td>0.00</td>\n",
       "      <td>0.00</td>\n",
       "    </tr>\n",
       "    <tr>\n",
       "      <th>Q2</th>\n",
       "      <td>69127.90</td>\n",
       "      <td>24516.72</td>\n",
       "      <td>0.55</td>\n",
       "    </tr>\n",
       "  </tbody>\n",
       "</table>\n",
       "</div>"
      ],
      "text/plain": [
       "         Total Compensation      Diff  Pct Change\n",
       "Quarter                                          \n",
       "Q1                 44611.18      0.00        0.00\n",
       "Q2                 69127.90  24516.72        0.55"
      ]
     },
     "execution_count": 147,
     "metadata": {},
     "output_type": "execute_result"
    }
   ],
   "source": [
    "Quarter_Total"
   ]
  },
  {
   "cell_type": "code",
   "execution_count": 297,
   "id": "c275ba07",
   "metadata": {},
   "outputs": [
    {
     "data": {
      "image/png": "[encoded data removed]",
      "text/plain": [
       "<Figure size 1000x600 with 1 Axes>"
      ]
     },
     "metadata": {},
     "output_type": "display_data"
    }
   ],
   "source": [
    "#MoM Change\n",
    "half['Year-Month'] = half['Date of Coverage'].dt.strftime('%Y-%m')\n",
    "\n",
    "#Aggregating\n",
    "MoM = half.groupby('Year-Month')['Total Compensation'].sum().reset_index()\n",
    "\n",
    "#Renaming Columns\n",
    "MoM.rename(columns = {'Total Compensation':'Month Compensation'}, inplace = True)\n",
    "\n",
    "#MoM Metrics\n",
    "MoM['Diff'] = round(MoM['Month Compensation'].diff(),2).fillna(0)\n",
    "MoM['Pct_Change'] = round(MoM['Month Compensation'].pct_change(),2).fillna(0)\n",
    "\n",
    "\n",
    "#Plotting Data\n",
    "MoM.plot(x = 'Year-Month', y = 'Month Compensation', marker = 'o', figsize = (10,6), title = 'MoM Coverage Pay Change')\n",
    "\n",
    "for index,value in enumerate(MoM['Month Compensation']):\n",
    "    plt.text(index,value,str(value))"
   ]
  },
  {
   "cell_type": "code",
   "execution_count": 296,
   "id": "4e7cd83b",
   "metadata": {
    "scrolled": true
   },
   "outputs": [
    {
     "data": {
      "text/html": [
       "<div>\n",
       "<style scoped>\n",
       "    .dataframe tbody tr th:only-of-type {\n",
       "        vertical-align: middle;\n",
       "    }\n",
       "\n",
       "    .dataframe tbody tr th {\n",
       "        vertical-align: top;\n",
       "    }\n",
       "\n",
       "    .dataframe thead th {\n",
       "        text-align: right;\n",
       "    }\n",
       "</style>\n",
       "<table border=\"1\" class=\"dataframe\">\n",
       "  <thead>\n",
       "    <tr style=\"text-align: right;\">\n",
       "      <th></th>\n",
       "      <th>Year-Month</th>\n",
       "      <th>Month Compensation</th>\n",
       "      <th>Diff</th>\n",
       "      <th>Pct_Change</th>\n",
       "    </tr>\n",
       "  </thead>\n",
       "  <tbody>\n",
       "    <tr>\n",
       "      <th>0</th>\n",
       "      <td>2023-08</td>\n",
       "      <td>5973.10</td>\n",
       "      <td>0.00</td>\n",
       "      <td>0.00</td>\n",
       "    </tr>\n",
       "    <tr>\n",
       "      <th>1</th>\n",
       "      <td>2023-09</td>\n",
       "      <td>20607.52</td>\n",
       "      <td>14634.42</td>\n",
       "      <td>2.45</td>\n",
       "    </tr>\n",
       "    <tr>\n",
       "      <th>2</th>\n",
       "      <td>2023-10</td>\n",
       "      <td>25589.32</td>\n",
       "      <td>4981.80</td>\n",
       "      <td>0.24</td>\n",
       "    </tr>\n",
       "    <tr>\n",
       "      <th>3</th>\n",
       "      <td>2023-11</td>\n",
       "      <td>24204.33</td>\n",
       "      <td>-1384.99</td>\n",
       "      <td>-0.05</td>\n",
       "    </tr>\n",
       "    <tr>\n",
       "      <th>4</th>\n",
       "      <td>2023-12</td>\n",
       "      <td>23282.53</td>\n",
       "      <td>-921.80</td>\n",
       "      <td>-0.04</td>\n",
       "    </tr>\n",
       "    <tr>\n",
       "      <th>5</th>\n",
       "      <td>2024-01</td>\n",
       "      <td>14082.28</td>\n",
       "      <td>-9200.25</td>\n",
       "      <td>-0.40</td>\n",
       "    </tr>\n",
       "  </tbody>\n",
       "</table>\n",
       "</div>"
      ],
      "text/plain": [
       "  Year-Month  Month Compensation      Diff  Pct_Change\n",
       "0    2023-08             5973.10      0.00        0.00\n",
       "1    2023-09            20607.52  14634.42        2.45\n",
       "2    2023-10            25589.32   4981.80        0.24\n",
       "3    2023-11            24204.33  -1384.99       -0.05\n",
       "4    2023-12            23282.53   -921.80       -0.04\n",
       "5    2024-01            14082.28  -9200.25       -0.40"
      ]
     },
     "execution_count": 296,
     "metadata": {},
     "output_type": "execute_result"
    }
   ],
   "source": [
    "MoM"
   ]
  },
  {
   "cell_type": "code",
   "execution_count": 345,
   "id": "9c21d39a",
   "metadata": {},
   "outputs": [
    {
     "data": {
      "text/plain": [
       "Diff          1351.53\n",
       "Pct_Change       0.37\n",
       "dtype: float64"
      ]
     },
     "execution_count": 345,
     "metadata": {},
     "output_type": "execute_result"
    }
   ],
   "source": [
    "round(MoM[['Diff','Pct_Change']].mean(),2)"
   ]
  },
  {
   "cell_type": "markdown",
   "id": "b920f6a9",
   "metadata": {},
   "source": [
    "On average, there was an increase if 1,351.53 USD (37%) MoM. The month with the largest increase in coverage pay data was September 2023, an increase of 14,634.42 USD (245%). The month with the largest decrease in coverage pay was January 2024, -9,200.25 USD (-40%).October 2023 was the month the largest coverage pay total thus far, 25,589.32 USD, and August was the month with the least amount of coverage pay."
   ]
  },
  {
   "cell_type": "code",
   "execution_count": 50,
   "id": "fcccd93d",
   "metadata": {
    "scrolled": true
   },
   "outputs": [
    {
     "data": {
      "image/png": "[encoded data removed]",
      "text/plain": [
       "<Figure size 640x480 with 1 Axes>"
      ]
     },
     "metadata": {},
     "output_type": "display_data"
    }
   ],
   "source": [
    "#Plotting Data\n",
    "Coverage_Type_Totals = half.groupby('Type of Coverage')['Total Compensation'].sum ().sort_values(ascending = False)\n",
    "Coverage_Type_Totals.plot(kind = 'barh', title = 'Type of Coverage Totals',xlabel = 'Count')\n",
    "\n",
    "#Labeling\n",
    "for index,value in enumerate (Coverage_Type_Totals):\n",
    "    plt.text(value, index, str(value))\n",
    "    \n",
    "#Displaying Data\n",
    "plt.show()\n"
   ]
  },
  {
   "cell_type": "code",
   "execution_count": 356,
   "id": "45b16c6d",
   "metadata": {},
   "outputs": [
    {
     "data": {
      "text/plain": [
       "Type of Coverage\n",
       "After School Program Clubs       0.07\n",
       "After School Program Tutoring    0.17\n",
       "Long Term                        0.23\n",
       "Non Instructional                0.29\n",
       "Short Term                       0.24\n",
       "Name: Number of Coverages, dtype: float64"
      ]
     },
     "execution_count": 356,
     "metadata": {},
     "output_type": "execute_result"
    }
   ],
   "source": [
    "total_coverages = half['Number of Coverages'].sum()\n",
    "\n",
    "round(half.groupby('Type of Coverage')['Number of Coverages'].sum()/total_coverages,2)"
   ]
  },
  {
   "cell_type": "markdown",
   "id": "30e96aa3",
   "metadata": {},
   "source": [
    "After School Program tutoring was the coverage type with the largest coverage pay total despite only accounting for 17% of submitted coverages by staff. "
   ]
  },
  {
   "cell_type": "code",
   "execution_count": 239,
   "id": "dc7d6217",
   "metadata": {},
   "outputs": [],
   "source": [
    "#Calculating coverage Type by quarter\n",
    "Quarter_Type = half.groupby(['Quarter','Type of Coverage'])['Total Compensation'].sum().reset_index()"
   ]
  },
  {
   "cell_type": "markdown",
   "id": "e2277e64",
   "metadata": {},
   "source": [
    "### After School Program Clubs"
   ]
  },
  {
   "cell_type": "code",
   "execution_count": 266,
   "id": "36e79d0c",
   "metadata": {},
   "outputs": [
    {
     "name": "stderr",
     "output_type": "stream",
     "text": [
      "C:\\Users\\togarro\\AppData\\Local\\Temp\\ipykernel_20012\\1624584650.py:3: SettingWithCopyWarning: \n",
      "A value is trying to be set on a copy of a slice from a DataFrame.\n",
      "Try using .loc[row_indexer,col_indexer] = value instead\n",
      "\n",
      "See the caveats in the documentation: https://pandas.pydata.org/pandas-docs/stable/user_guide/indexing.html#returning-a-view-versus-a-copy\n",
      "  After_School_Clubs_Comp['Diff'] = After_School_Clubs_Comp['Total Compensation'].diff().fillna(0)\n",
      "C:\\Users\\togarro\\AppData\\Local\\Temp\\ipykernel_20012\\1624584650.py:4: SettingWithCopyWarning: \n",
      "A value is trying to be set on a copy of a slice from a DataFrame.\n",
      "Try using .loc[row_indexer,col_indexer] = value instead\n",
      "\n",
      "See the caveats in the documentation: https://pandas.pydata.org/pandas-docs/stable/user_guide/indexing.html#returning-a-view-versus-a-copy\n",
      "  After_School_Clubs_Comp['Pct_change'] = round(After_School_Clubs_Comp['Total Compensation'].pct_change(),2).fillna(0)\n"
     ]
    },
    {
     "data": {
      "text/html": [
       "<div>\n",
       "<style scoped>\n",
       "    .dataframe tbody tr th:only-of-type {\n",
       "        vertical-align: middle;\n",
       "    }\n",
       "\n",
       "    .dataframe tbody tr th {\n",
       "        vertical-align: top;\n",
       "    }\n",
       "\n",
       "    .dataframe thead th {\n",
       "        text-align: right;\n",
       "    }\n",
       "</style>\n",
       "<table border=\"1\" class=\"dataframe\">\n",
       "  <thead>\n",
       "    <tr style=\"text-align: right;\">\n",
       "      <th></th>\n",
       "      <th>Quarter</th>\n",
       "      <th>Type of Coverage</th>\n",
       "      <th>Total Compensation</th>\n",
       "      <th>Diff</th>\n",
       "      <th>Pct_change</th>\n",
       "    </tr>\n",
       "  </thead>\n",
       "  <tbody>\n",
       "    <tr>\n",
       "      <th>0</th>\n",
       "      <td>Q1</td>\n",
       "      <td>After School Program Clubs</td>\n",
       "      <td>240.0</td>\n",
       "      <td>0.0</td>\n",
       "      <td>0.00</td>\n",
       "    </tr>\n",
       "    <tr>\n",
       "      <th>5</th>\n",
       "      <td>Q2</td>\n",
       "      <td>After School Program Clubs</td>\n",
       "      <td>14240.0</td>\n",
       "      <td>14000.0</td>\n",
       "      <td>58.33</td>\n",
       "    </tr>\n",
       "  </tbody>\n",
       "</table>\n",
       "</div>"
      ],
      "text/plain": [
       "  Quarter            Type of Coverage  Total Compensation     Diff  Pct_change\n",
       "0      Q1  After School Program Clubs               240.0      0.0        0.00\n",
       "5      Q2  After School Program Clubs             14240.0  14000.0       58.33"
      ]
     },
     "execution_count": 266,
     "metadata": {},
     "output_type": "execute_result"
    }
   ],
   "source": [
    "colors = ['blue', 'red']\n",
    "After_School_Clubs_Comp = Quarter_Type[Quarter_Type['Type of Coverage'] == 'After School Program Clubs']\n",
    "After_School_Clubs_Comp['Diff'] = After_School_Clubs_Comp['Total Compensation'].diff().fillna(0)\n",
    "After_School_Clubs_Comp['Pct_change'] = round(After_School_Clubs_Comp['Total Compensation'].pct_change(),2).fillna(0)\n",
    "\n",
    "After_School_Clubs_Comp"
   ]
  },
  {
   "cell_type": "markdown",
   "id": "cb51c241",
   "metadata": {},
   "source": [
    "### After School Program Tutoring"
   ]
  },
  {
   "cell_type": "code",
   "execution_count": 191,
   "id": "d5f5ee09",
   "metadata": {},
   "outputs": [
    {
     "name": "stderr",
     "output_type": "stream",
     "text": [
      "C:\\Users\\togarro\\AppData\\Local\\Temp\\ipykernel_20012\\2191546105.py:6: SettingWithCopyWarning: \n",
      "A value is trying to be set on a copy of a slice from a DataFrame.\n",
      "Try using .loc[row_indexer,col_indexer] = value instead\n",
      "\n",
      "See the caveats in the documentation: https://pandas.pydata.org/pandas-docs/stable/user_guide/indexing.html#returning-a-view-versus-a-copy\n",
      "  After_School_Tutoring_Comp['Diff'] = After_School_Tutoring_Comp['Total Compensation'].diff().fillna(0)\n",
      "C:\\Users\\togarro\\AppData\\Local\\Temp\\ipykernel_20012\\2191546105.py:7: SettingWithCopyWarning: \n",
      "A value is trying to be set on a copy of a slice from a DataFrame.\n",
      "Try using .loc[row_indexer,col_indexer] = value instead\n",
      "\n",
      "See the caveats in the documentation: https://pandas.pydata.org/pandas-docs/stable/user_guide/indexing.html#returning-a-view-versus-a-copy\n",
      "  After_School_Tutoring_Comp['Pct Change'] = round(After_School_Tutoring_Comp['Total Compensation'].pct_change().fillna(0),2)\n"
     ]
    },
    {
     "data": {
      "text/html": [
       "<div>\n",
       "<style scoped>\n",
       "    .dataframe tbody tr th:only-of-type {\n",
       "        vertical-align: middle;\n",
       "    }\n",
       "\n",
       "    .dataframe tbody tr th {\n",
       "        vertical-align: top;\n",
       "    }\n",
       "\n",
       "    .dataframe thead th {\n",
       "        text-align: right;\n",
       "    }\n",
       "</style>\n",
       "<table border=\"1\" class=\"dataframe\">\n",
       "  <thead>\n",
       "    <tr style=\"text-align: right;\">\n",
       "      <th></th>\n",
       "      <th>Quarter</th>\n",
       "      <th>Type of Coverage</th>\n",
       "      <th>Total Compensation</th>\n",
       "      <th>Diff</th>\n",
       "      <th>Pct Change</th>\n",
       "    </tr>\n",
       "  </thead>\n",
       "  <tbody>\n",
       "    <tr>\n",
       "      <th>1</th>\n",
       "      <td>Q1</td>\n",
       "      <td>After School Program Tutoring</td>\n",
       "      <td>16320.0</td>\n",
       "      <td>0.0</td>\n",
       "      <td>0.0</td>\n",
       "    </tr>\n",
       "    <tr>\n",
       "      <th>6</th>\n",
       "      <td>Q2</td>\n",
       "      <td>After School Program Tutoring</td>\n",
       "      <td>19520.0</td>\n",
       "      <td>3200.0</td>\n",
       "      <td>0.2</td>\n",
       "    </tr>\n",
       "  </tbody>\n",
       "</table>\n",
       "</div>"
      ],
      "text/plain": [
       "  Quarter               Type of Coverage  Total Compensation    Diff  \\\n",
       "1      Q1  After School Program Tutoring             16320.0     0.0   \n",
       "6      Q2  After School Program Tutoring             19520.0  3200.0   \n",
       "\n",
       "   Pct Change  \n",
       "1         0.0  \n",
       "6         0.2  "
      ]
     },
     "execution_count": 191,
     "metadata": {},
     "output_type": "execute_result"
    }
   ],
   "source": [
    "After_School_Tutoring_Comp = Quarter_Type[Quarter_Type['Type of Coverage'] == 'After School Program Tutoring']\n",
    "After_School_Tutoring_Comp['Diff'] = After_School_Tutoring_Comp['Total Compensation'].diff().fillna(0)\n",
    "After_School_Tutoring_Comp['Pct Change'] = round(After_School_Tutoring_Comp['Total Compensation'].pct_change().fillna(0),2)\n",
    "After_School_Tutoring_Comp"
   ]
  },
  {
   "cell_type": "markdown",
   "id": "bba6cb6b",
   "metadata": {},
   "source": [
    "### Long Term"
   ]
  },
  {
   "cell_type": "code",
   "execution_count": 230,
   "id": "bc9e5093",
   "metadata": {},
   "outputs": [
    {
     "name": "stderr",
     "output_type": "stream",
     "text": [
      "C:\\Users\\togarro\\AppData\\Local\\Temp\\ipykernel_20012\\2546675218.py:2: SettingWithCopyWarning: \n",
      "A value is trying to be set on a copy of a slice from a DataFrame.\n",
      "Try using .loc[row_indexer,col_indexer] = value instead\n",
      "\n",
      "See the caveats in the documentation: https://pandas.pydata.org/pandas-docs/stable/user_guide/indexing.html#returning-a-view-versus-a-copy\n",
      "  Long_Term_Comp['Diff'] = round(Long_Term_Comp['Total Compensation'].diff(),2).fillna(0)\n",
      "C:\\Users\\togarro\\AppData\\Local\\Temp\\ipykernel_20012\\2546675218.py:3: SettingWithCopyWarning: \n",
      "A value is trying to be set on a copy of a slice from a DataFrame.\n",
      "Try using .loc[row_indexer,col_indexer] = value instead\n",
      "\n",
      "See the caveats in the documentation: https://pandas.pydata.org/pandas-docs/stable/user_guide/indexing.html#returning-a-view-versus-a-copy\n",
      "  Long_Term_Comp['Pct_change'] = round(Long_Term_Comp['Total Compensation'].pct_change(),2).fillna(0)\n"
     ]
    },
    {
     "data": {
      "text/html": [
       "<div>\n",
       "<style scoped>\n",
       "    .dataframe tbody tr th:only-of-type {\n",
       "        vertical-align: middle;\n",
       "    }\n",
       "\n",
       "    .dataframe tbody tr th {\n",
       "        vertical-align: top;\n",
       "    }\n",
       "\n",
       "    .dataframe thead th {\n",
       "        text-align: right;\n",
       "    }\n",
       "</style>\n",
       "<table border=\"1\" class=\"dataframe\">\n",
       "  <thead>\n",
       "    <tr style=\"text-align: right;\">\n",
       "      <th></th>\n",
       "      <th>Quarter</th>\n",
       "      <th>Type of Coverage</th>\n",
       "      <th>Total Compensation</th>\n",
       "      <th>Diff</th>\n",
       "      <th>Pct_change</th>\n",
       "    </tr>\n",
       "  </thead>\n",
       "  <tbody>\n",
       "    <tr>\n",
       "      <th>2</th>\n",
       "      <td>Q1</td>\n",
       "      <td>Long Term</td>\n",
       "      <td>11956.18</td>\n",
       "      <td>0.00</td>\n",
       "      <td>0.00</td>\n",
       "    </tr>\n",
       "    <tr>\n",
       "      <th>7</th>\n",
       "      <td>Q2</td>\n",
       "      <td>Long Term</td>\n",
       "      <td>12272.90</td>\n",
       "      <td>316.72</td>\n",
       "      <td>0.03</td>\n",
       "    </tr>\n",
       "  </tbody>\n",
       "</table>\n",
       "</div>"
      ],
      "text/plain": [
       "  Quarter Type of Coverage  Total Compensation    Diff  Pct_change\n",
       "2      Q1        Long Term            11956.18    0.00        0.00\n",
       "7      Q2        Long Term            12272.90  316.72        0.03"
      ]
     },
     "execution_count": 230,
     "metadata": {},
     "output_type": "execute_result"
    }
   ],
   "source": [
    "Long_Term_Comp = Quarter_Type[Quarter_Type['Type of Coverage'] == 'Long Term']\n",
    "Long_Term_Comp['Diff'] = round(Long_Term_Comp['Total Compensation'].diff(),2).fillna(0)\n",
    "Long_Term_Comp['Pct_change'] = round(Long_Term_Comp['Total Compensation'].pct_change(),2).fillna(0)\n",
    "\n",
    "Long_Term_Comp"
   ]
  },
  {
   "cell_type": "markdown",
   "id": "5d686cc7",
   "metadata": {},
   "source": [
    "### Non Instructional"
   ]
  },
  {
   "cell_type": "code",
   "execution_count": 238,
   "id": "a19aa2c1",
   "metadata": {},
   "outputs": [
    {
     "name": "stderr",
     "output_type": "stream",
     "text": [
      "C:\\Users\\togarro\\AppData\\Local\\Temp\\ipykernel_20012\\292333405.py:2: SettingWithCopyWarning: \n",
      "A value is trying to be set on a copy of a slice from a DataFrame.\n",
      "Try using .loc[row_indexer,col_indexer] = value instead\n",
      "\n",
      "See the caveats in the documentation: https://pandas.pydata.org/pandas-docs/stable/user_guide/indexing.html#returning-a-view-versus-a-copy\n",
      "  Non_Ins_Term_Comp['Diff'] = Non_Ins_Term_Comp['Total Compensation'].diff().fillna(0)\n",
      "C:\\Users\\togarro\\AppData\\Local\\Temp\\ipykernel_20012\\292333405.py:3: SettingWithCopyWarning: \n",
      "A value is trying to be set on a copy of a slice from a DataFrame.\n",
      "Try using .loc[row_indexer,col_indexer] = value instead\n",
      "\n",
      "See the caveats in the documentation: https://pandas.pydata.org/pandas-docs/stable/user_guide/indexing.html#returning-a-view-versus-a-copy\n",
      "  Non_Ins_Term_Comp['Pct_Change'] = round(Non_Ins_Term_Comp['Total Compensation'].pct_change().fillna(0),2)\n"
     ]
    },
    {
     "data": {
      "text/html": [
       "<div>\n",
       "<style scoped>\n",
       "    .dataframe tbody tr th:only-of-type {\n",
       "        vertical-align: middle;\n",
       "    }\n",
       "\n",
       "    .dataframe tbody tr th {\n",
       "        vertical-align: top;\n",
       "    }\n",
       "\n",
       "    .dataframe thead th {\n",
       "        text-align: right;\n",
       "    }\n",
       "</style>\n",
       "<table border=\"1\" class=\"dataframe\">\n",
       "  <thead>\n",
       "    <tr style=\"text-align: right;\">\n",
       "      <th></th>\n",
       "      <th>Quarter</th>\n",
       "      <th>Type of Coverage</th>\n",
       "      <th>Total Compensation</th>\n",
       "      <th>Diff</th>\n",
       "      <th>Pct_Change</th>\n",
       "    </tr>\n",
       "  </thead>\n",
       "  <tbody>\n",
       "    <tr>\n",
       "      <th>3</th>\n",
       "      <td>Q1</td>\n",
       "      <td>Non Instructional</td>\n",
       "      <td>7875.0</td>\n",
       "      <td>0.0</td>\n",
       "      <td>0.00</td>\n",
       "    </tr>\n",
       "    <tr>\n",
       "      <th>8</th>\n",
       "      <td>Q2</td>\n",
       "      <td>Non Instructional</td>\n",
       "      <td>11875.0</td>\n",
       "      <td>4000.0</td>\n",
       "      <td>0.51</td>\n",
       "    </tr>\n",
       "  </tbody>\n",
       "</table>\n",
       "</div>"
      ],
      "text/plain": [
       "  Quarter   Type of Coverage  Total Compensation    Diff  Pct_Change\n",
       "3      Q1  Non Instructional              7875.0     0.0        0.00\n",
       "8      Q2  Non Instructional             11875.0  4000.0        0.51"
      ]
     },
     "execution_count": 238,
     "metadata": {},
     "output_type": "execute_result"
    }
   ],
   "source": [
    "Non_Ins_Term_Comp = Quarter_Type[Quarter_Type['Type of Coverage'] == 'Non Instructional']\n",
    "Non_Ins_Term_Comp['Diff'] = Non_Ins_Term_Comp['Total Compensation'].diff().fillna(0)\n",
    "Non_Ins_Term_Comp['Pct_Change'] = round(Non_Ins_Term_Comp['Total Compensation'].pct_change().fillna(0),2)\n",
    "Non_Ins_Term_Comp"
   ]
  },
  {
   "cell_type": "markdown",
   "id": "933e68e9",
   "metadata": {},
   "source": [
    "### Short Term"
   ]
  },
  {
   "cell_type": "code",
   "execution_count": 233,
   "id": "ffac606c",
   "metadata": {},
   "outputs": [
    {
     "name": "stderr",
     "output_type": "stream",
     "text": [
      "C:\\Users\\togarro\\AppData\\Local\\Temp\\ipykernel_20012\\2676047429.py:2: SettingWithCopyWarning: \n",
      "A value is trying to be set on a copy of a slice from a DataFrame.\n",
      "Try using .loc[row_indexer,col_indexer] = value instead\n",
      "\n",
      "See the caveats in the documentation: https://pandas.pydata.org/pandas-docs/stable/user_guide/indexing.html#returning-a-view-versus-a-copy\n",
      "  Short_Term_Comp['Diff'] = round(Short_Term_Comp['Total Compensation'].diff(),2).fillna(0)\n",
      "C:\\Users\\togarro\\AppData\\Local\\Temp\\ipykernel_20012\\2676047429.py:3: SettingWithCopyWarning: \n",
      "A value is trying to be set on a copy of a slice from a DataFrame.\n",
      "Try using .loc[row_indexer,col_indexer] = value instead\n",
      "\n",
      "See the caveats in the documentation: https://pandas.pydata.org/pandas-docs/stable/user_guide/indexing.html#returning-a-view-versus-a-copy\n",
      "  Short_Term_Comp['Pct_change'] = round(Short_Term_Comp['Total Compensation'].pct_change(),2).fillna(0)\n"
     ]
    },
    {
     "data": {
      "text/html": [
       "<div>\n",
       "<style scoped>\n",
       "    .dataframe tbody tr th:only-of-type {\n",
       "        vertical-align: middle;\n",
       "    }\n",
       "\n",
       "    .dataframe tbody tr th {\n",
       "        vertical-align: top;\n",
       "    }\n",
       "\n",
       "    .dataframe thead th {\n",
       "        text-align: right;\n",
       "    }\n",
       "</style>\n",
       "<table border=\"1\" class=\"dataframe\">\n",
       "  <thead>\n",
       "    <tr style=\"text-align: right;\">\n",
       "      <th></th>\n",
       "      <th>Quarter</th>\n",
       "      <th>Type of Coverage</th>\n",
       "      <th>Total Compensation</th>\n",
       "      <th>Diff</th>\n",
       "      <th>Pct_change</th>\n",
       "    </tr>\n",
       "  </thead>\n",
       "  <tbody>\n",
       "    <tr>\n",
       "      <th>4</th>\n",
       "      <td>Q1</td>\n",
       "      <td>Short Term</td>\n",
       "      <td>8220.0</td>\n",
       "      <td>0.0</td>\n",
       "      <td>0.00</td>\n",
       "    </tr>\n",
       "    <tr>\n",
       "      <th>9</th>\n",
       "      <td>Q2</td>\n",
       "      <td>Short Term</td>\n",
       "      <td>11220.0</td>\n",
       "      <td>3000.0</td>\n",
       "      <td>0.36</td>\n",
       "    </tr>\n",
       "  </tbody>\n",
       "</table>\n",
       "</div>"
      ],
      "text/plain": [
       "  Quarter Type of Coverage  Total Compensation    Diff  Pct_change\n",
       "4      Q1       Short Term              8220.0     0.0        0.00\n",
       "9      Q2       Short Term             11220.0  3000.0        0.36"
      ]
     },
     "execution_count": 233,
     "metadata": {},
     "output_type": "execute_result"
    }
   ],
   "source": [
    "Short_Term_Comp = Quarter_Type[Quarter_Type['Type of Coverage'] == 'Short Term']\n",
    "Short_Term_Comp['Diff'] = round(Short_Term_Comp['Total Compensation'].diff(),2).fillna(0)\n",
    "Short_Term_Comp['Pct_change'] = round(Short_Term_Comp['Total Compensation'].pct_change(),2).fillna(0)\n",
    "Short_Term_Comp"
   ]
  },
  {
   "cell_type": "code",
   "execution_count": 279,
   "id": "f98718e6",
   "metadata": {},
   "outputs": [
    {
     "data": {
      "text/plain": [
       "<Axes: title={'center': 'Quarter Coverage Type Total Comparison'}, xlabel='Quarter'>"
      ]
     },
     "execution_count": 279,
     "metadata": {},
     "output_type": "execute_result"
    },
    {
     "data": {
      "image/png": "[encoded data removed]",
      "text/plain": [
       "<Figure size 1000x600 with 1 Axes>"
      ]
     },
     "metadata": {},
     "output_type": "display_data"
    }
   ],
   "source": [
    "Quarter_Comparison = half.groupby(['Quarter','Type of Coverage'])['Total Compensation'].sum().unstack()\n",
    "Quarter_Comparison.plot(kind = 'bar', figsize = (10,6), title = 'Quarter Coverage Type Total Comparison')"
   ]
  },
  {
   "cell_type": "markdown",
   "id": "018af33f",
   "metadata": {},
   "source": [
    "After School Program Clubs had the largest increase quarter over quarter, a difference of more than 14,000 USD (~58%).There was also a 4,000 USD increase in Non Instructional coverages quarter over quarter, approximately  a 51% increase."
   ]
  },
  {
   "cell_type": "code",
   "execution_count": 342,
   "id": "444cdf85",
   "metadata": {},
   "outputs": [
    {
     "data": {
      "image/png": "[encoded data removed]",
      "text/plain": [
       "<Figure size 640x480 with 1 Axes>"
      ]
     },
     "metadata": {},
     "output_type": "display_data"
    }
   ],
   "source": [
    "colors = ['blue','orange','green']\n",
    "\n",
    "#Aggregating Data\n",
    "Campus_Total = round(half.groupby('Campus')['Total Compensation'].sum(),2).reset_index()\n",
    "Campus_Total.rename(columns = {'Total Compensation':'Campus Total'}, inplace =True)\n",
    "\n",
    "#Plotting Data\n",
    "Campus_Total.plot(x = 'Campus', y = 'Campus Total', kind = 'barh', title = 'Campus Total', color = colors)\n",
    "\n",
    "for index,value in enumerate(Campus_Total['Campus Total']):\n",
    "    plt.text(value,index,str(value))\n",
    "\n",
    "    \n",
    "plt.legend().remove()\n",
    "plt.show()\n"
   ]
  },
  {
   "cell_type": "markdown",
   "id": "4b3ecea5",
   "metadata": {},
   "source": [
    "The Collegiate Campus has the largest coverage pay total, 46,204.59 USD."
   ]
  },
  {
   "cell_type": "code",
   "execution_count": 307,
   "id": "a6100874",
   "metadata": {},
   "outputs": [],
   "source": [
    "Campus_Metrics = half.groupby(['Quarter','Campus'])['Total Compensation'].sum().reset_index()\n",
    "Campus_Metrics.rename(columns = {'Total Compensation':'Campus Compensation'}, inplace = True)"
   ]
  },
  {
   "cell_type": "code",
   "execution_count": 310,
   "id": "de6b1db6",
   "metadata": {},
   "outputs": [
    {
     "name": "stderr",
     "output_type": "stream",
     "text": [
      "C:\\Users\\togarro\\AppData\\Local\\Temp\\ipykernel_20012\\363040524.py:2: SettingWithCopyWarning: \n",
      "A value is trying to be set on a copy of a slice from a DataFrame.\n",
      "Try using .loc[row_indexer,col_indexer] = value instead\n",
      "\n",
      "See the caveats in the documentation: https://pandas.pydata.org/pandas-docs/stable/user_guide/indexing.html#returning-a-view-versus-a-copy\n",
      "  Collegiate_Metrics['Diff']= round(Collegiate_Metrics['Campus Compensation'].diff(),2).fillna(0)\n",
      "C:\\Users\\togarro\\AppData\\Local\\Temp\\ipykernel_20012\\363040524.py:3: SettingWithCopyWarning: \n",
      "A value is trying to be set on a copy of a slice from a DataFrame.\n",
      "Try using .loc[row_indexer,col_indexer] = value instead\n",
      "\n",
      "See the caveats in the documentation: https://pandas.pydata.org/pandas-docs/stable/user_guide/indexing.html#returning-a-view-versus-a-copy\n",
      "  Collegiate_Metrics['Pct_Change']= round(Collegiate_Metrics['Campus Compensation'].pct_change(),2).fillna(0)\n"
     ]
    },
    {
     "data": {
      "text/html": [
       "<div>\n",
       "<style scoped>\n",
       "    .dataframe tbody tr th:only-of-type {\n",
       "        vertical-align: middle;\n",
       "    }\n",
       "\n",
       "    .dataframe tbody tr th {\n",
       "        vertical-align: top;\n",
       "    }\n",
       "\n",
       "    .dataframe thead th {\n",
       "        text-align: right;\n",
       "    }\n",
       "</style>\n",
       "<table border=\"1\" class=\"dataframe\">\n",
       "  <thead>\n",
       "    <tr style=\"text-align: right;\">\n",
       "      <th></th>\n",
       "      <th>Quarter</th>\n",
       "      <th>Campus</th>\n",
       "      <th>Campus Compensation</th>\n",
       "      <th>Diff</th>\n",
       "      <th>Pct_Change</th>\n",
       "    </tr>\n",
       "  </thead>\n",
       "  <tbody>\n",
       "    <tr>\n",
       "      <th>0</th>\n",
       "      <td>Q1</td>\n",
       "      <td>Collegiate</td>\n",
       "      <td>12341.36</td>\n",
       "      <td>0.00</td>\n",
       "      <td>0.00</td>\n",
       "    </tr>\n",
       "    <tr>\n",
       "      <th>3</th>\n",
       "      <td>Q2</td>\n",
       "      <td>Collegiate</td>\n",
       "      <td>33863.23</td>\n",
       "      <td>21521.87</td>\n",
       "      <td>1.74</td>\n",
       "    </tr>\n",
       "  </tbody>\n",
       "</table>\n",
       "</div>"
      ],
      "text/plain": [
       "  Quarter      Campus  Campus Compensation      Diff  Pct_Change\n",
       "0      Q1  Collegiate             12341.36      0.00        0.00\n",
       "3      Q2  Collegiate             33863.23  21521.87        1.74"
      ]
     },
     "execution_count": 310,
     "metadata": {},
     "output_type": "execute_result"
    }
   ],
   "source": [
    "Collegiate_Metrics = Campus_Metrics[Campus_Metrics['Campus'] == 'Collegiate' ]\n",
    "Collegiate_Metrics['Diff']= round(Collegiate_Metrics['Campus Compensation'].diff(),2).fillna(0)\n",
    "Collegiate_Metrics['Pct_Change']= round(Collegiate_Metrics['Campus Compensation'].pct_change(),2).fillna(0)\n",
    "\n",
    "Collegiate_Metrics"
   ]
  },
  {
   "cell_type": "code",
   "execution_count": 313,
   "id": "9e2be92e",
   "metadata": {},
   "outputs": [
    {
     "name": "stderr",
     "output_type": "stream",
     "text": [
      "C:\\Users\\togarro\\AppData\\Local\\Temp\\ipykernel_20012\\68212430.py:2: SettingWithCopyWarning: \n",
      "A value is trying to be set on a copy of a slice from a DataFrame.\n",
      "Try using .loc[row_indexer,col_indexer] = value instead\n",
      "\n",
      "See the caveats in the documentation: https://pandas.pydata.org/pandas-docs/stable/user_guide/indexing.html#returning-a-view-versus-a-copy\n",
      "  Middle_Metrics['Diff']= round(Middle_Metrics['Campus Compensation'].diff(),2).fillna(0)\n",
      "C:\\Users\\togarro\\AppData\\Local\\Temp\\ipykernel_20012\\68212430.py:3: SettingWithCopyWarning: \n",
      "A value is trying to be set on a copy of a slice from a DataFrame.\n",
      "Try using .loc[row_indexer,col_indexer] = value instead\n",
      "\n",
      "See the caveats in the documentation: https://pandas.pydata.org/pandas-docs/stable/user_guide/indexing.html#returning-a-view-versus-a-copy\n",
      "  Middle_Metrics['Pct_Change']= round(Middle_Metrics['Campus Compensation'].pct_change(),2).fillna(0)\n"
     ]
    },
    {
     "data": {
      "text/html": [
       "<div>\n",
       "<style scoped>\n",
       "    .dataframe tbody tr th:only-of-type {\n",
       "        vertical-align: middle;\n",
       "    }\n",
       "\n",
       "    .dataframe tbody tr th {\n",
       "        vertical-align: top;\n",
       "    }\n",
       "\n",
       "    .dataframe thead th {\n",
       "        text-align: right;\n",
       "    }\n",
       "</style>\n",
       "<table border=\"1\" class=\"dataframe\">\n",
       "  <thead>\n",
       "    <tr style=\"text-align: right;\">\n",
       "      <th></th>\n",
       "      <th>Quarter</th>\n",
       "      <th>Campus</th>\n",
       "      <th>Campus Compensation</th>\n",
       "      <th>Diff</th>\n",
       "      <th>Pct_Change</th>\n",
       "    </tr>\n",
       "  </thead>\n",
       "  <tbody>\n",
       "    <tr>\n",
       "      <th>2</th>\n",
       "      <td>Q1</td>\n",
       "      <td>Middle</td>\n",
       "      <td>10039.59</td>\n",
       "      <td>0.0</td>\n",
       "      <td>0.00</td>\n",
       "    </tr>\n",
       "    <tr>\n",
       "      <th>5</th>\n",
       "      <td>Q2</td>\n",
       "      <td>Middle</td>\n",
       "      <td>14419.59</td>\n",
       "      <td>4380.0</td>\n",
       "      <td>0.44</td>\n",
       "    </tr>\n",
       "  </tbody>\n",
       "</table>\n",
       "</div>"
      ],
      "text/plain": [
       "  Quarter  Campus  Campus Compensation    Diff  Pct_Change\n",
       "2      Q1  Middle             10039.59     0.0        0.00\n",
       "5      Q2  Middle             14419.59  4380.0        0.44"
      ]
     },
     "execution_count": 313,
     "metadata": {},
     "output_type": "execute_result"
    }
   ],
   "source": [
    "Middle_Metrics = Campus_Metrics[Campus_Metrics['Campus'] == 'Middle' ]\n",
    "Middle_Metrics['Diff']= round(Middle_Metrics['Campus Compensation'].diff(),2).fillna(0)\n",
    "Middle_Metrics['Pct_Change']= round(Middle_Metrics['Campus Compensation'].pct_change(),2).fillna(0)\n",
    "\n",
    "Middle_Metrics"
   ]
  },
  {
   "cell_type": "code",
   "execution_count": 314,
   "id": "3fc3bd36",
   "metadata": {},
   "outputs": [
    {
     "name": "stderr",
     "output_type": "stream",
     "text": [
      "C:\\Users\\togarro\\AppData\\Local\\Temp\\ipykernel_20012\\1966577741.py:2: SettingWithCopyWarning: \n",
      "A value is trying to be set on a copy of a slice from a DataFrame.\n",
      "Try using .loc[row_indexer,col_indexer] = value instead\n",
      "\n",
      "See the caveats in the documentation: https://pandas.pydata.org/pandas-docs/stable/user_guide/indexing.html#returning-a-view-versus-a-copy\n",
      "  Elementary_Metrics['Diff']= round(Elementary_Metrics['Campus Compensation'].diff(),2).fillna(0)\n",
      "C:\\Users\\togarro\\AppData\\Local\\Temp\\ipykernel_20012\\1966577741.py:3: SettingWithCopyWarning: \n",
      "A value is trying to be set on a copy of a slice from a DataFrame.\n",
      "Try using .loc[row_indexer,col_indexer] = value instead\n",
      "\n",
      "See the caveats in the documentation: https://pandas.pydata.org/pandas-docs/stable/user_guide/indexing.html#returning-a-view-versus-a-copy\n",
      "  Elementary_Metrics['Pct_Change']= round(Elementary_Metrics['Campus Compensation'].pct_change(),2).fillna(0)\n"
     ]
    },
    {
     "data": {
      "text/html": [
       "<div>\n",
       "<style scoped>\n",
       "    .dataframe tbody tr th:only-of-type {\n",
       "        vertical-align: middle;\n",
       "    }\n",
       "\n",
       "    .dataframe tbody tr th {\n",
       "        vertical-align: top;\n",
       "    }\n",
       "\n",
       "    .dataframe thead th {\n",
       "        text-align: right;\n",
       "    }\n",
       "</style>\n",
       "<table border=\"1\" class=\"dataframe\">\n",
       "  <thead>\n",
       "    <tr style=\"text-align: right;\">\n",
       "      <th></th>\n",
       "      <th>Quarter</th>\n",
       "      <th>Campus</th>\n",
       "      <th>Campus Compensation</th>\n",
       "      <th>Diff</th>\n",
       "      <th>Pct_Change</th>\n",
       "    </tr>\n",
       "  </thead>\n",
       "  <tbody>\n",
       "    <tr>\n",
       "      <th>1</th>\n",
       "      <td>Q1</td>\n",
       "      <td>Elementary</td>\n",
       "      <td>22230.23</td>\n",
       "      <td>0.00</td>\n",
       "      <td>0.00</td>\n",
       "    </tr>\n",
       "    <tr>\n",
       "      <th>4</th>\n",
       "      <td>Q2</td>\n",
       "      <td>Elementary</td>\n",
       "      <td>20845.08</td>\n",
       "      <td>-1385.15</td>\n",
       "      <td>-0.06</td>\n",
       "    </tr>\n",
       "  </tbody>\n",
       "</table>\n",
       "</div>"
      ],
      "text/plain": [
       "  Quarter      Campus  Campus Compensation     Diff  Pct_Change\n",
       "1      Q1  Elementary             22230.23     0.00        0.00\n",
       "4      Q2  Elementary             20845.08 -1385.15       -0.06"
      ]
     },
     "execution_count": 314,
     "metadata": {},
     "output_type": "execute_result"
    }
   ],
   "source": [
    "Elementary_Metrics = Campus_Metrics[Campus_Metrics['Campus'] == 'Elementary' ]\n",
    "Elementary_Metrics['Diff']= round(Elementary_Metrics['Campus Compensation'].diff(),2).fillna(0)\n",
    "Elementary_Metrics['Pct_Change']= round(Elementary_Metrics['Campus Compensation'].pct_change(),2).fillna(0)\n",
    "\n",
    "Elementary_Metrics"
   ]
  },
  {
   "cell_type": "code",
   "execution_count": 318,
   "id": "8dac8bec",
   "metadata": {},
   "outputs": [
    {
     "data": {
      "image/png": "[encoded data removed]",
      "text/plain": [
       "<Figure size 1000x600 with 1 Axes>"
      ]
     },
     "metadata": {},
     "output_type": "display_data"
    }
   ],
   "source": [
    "Campus_Camparison =  half.groupby(['Quarter','Campus'])['Total Compensation'].sum().unstack()\n",
    "Campus_Camparison.plot(kind = 'bar', title = 'Campus Quarter Comparison', figsize = (10,6))\n",
    "\n",
    "plt.show()"
   ]
  },
  {
   "cell_type": "markdown",
   "id": "1c7b3d6e",
   "metadata": {},
   "source": [
    "The Collegiate Campus had the largest increase in coverage pay quarter over quarter, 21,521.87 USD (174%). Courtney Ageyman is the employee at the Collegiate Campus was the highest combined coverage pay total, 5421.87 USD."
   ]
  },
  {
   "cell_type": "code",
   "execution_count": 362,
   "id": "fbe92d4b",
   "metadata": {},
   "outputs": [
    {
     "data": {
      "text/plain": [
       "Campus      Name            \n",
       "Collegiate  Courtney Agyeman    5421.87\n",
       "Name: Total Compensation, dtype: float64"
      ]
     },
     "execution_count": 362,
     "metadata": {},
     "output_type": "execute_result"
    }
   ],
   "source": [
    "half[half['Campus']== 'Collegiate'].groupby(['Campus','Name'])['Total Compensation'].sum().sort_values(ascending = False).head(1)"
   ]
  },
  {
   "cell_type": "code",
   "execution_count": 371,
   "id": "6b6eb734",
   "metadata": {},
   "outputs": [
    {
     "data": {
      "text/html": [
       "<div>\n",
       "<style scoped>\n",
       "    .dataframe tbody tr th:only-of-type {\n",
       "        vertical-align: middle;\n",
       "    }\n",
       "\n",
       "    .dataframe tbody tr th {\n",
       "        vertical-align: top;\n",
       "    }\n",
       "\n",
       "    .dataframe thead th {\n",
       "        text-align: right;\n",
       "    }\n",
       "</style>\n",
       "<table border=\"1\" class=\"dataframe\">\n",
       "  <thead>\n",
       "    <tr style=\"text-align: right;\">\n",
       "      <th></th>\n",
       "      <th>Account Title</th>\n",
       "      <th>Budget Remaining</th>\n",
       "      <th>Coverage Pay Total</th>\n",
       "      <th>Difference</th>\n",
       "    </tr>\n",
       "  </thead>\n",
       "  <tbody>\n",
       "    <tr>\n",
       "      <th>0</th>\n",
       "      <td>Teachers ES</td>\n",
       "      <td>564100.03</td>\n",
       "      <td>43075.31</td>\n",
       "      <td>521024.72</td>\n",
       "    </tr>\n",
       "    <tr>\n",
       "      <th>1</th>\n",
       "      <td>Teachers MS</td>\n",
       "      <td>408164.69</td>\n",
       "      <td>24459.18</td>\n",
       "      <td>383705.51</td>\n",
       "    </tr>\n",
       "    <tr>\n",
       "      <th>2</th>\n",
       "      <td>Teachers Collegiate</td>\n",
       "      <td>147983.13</td>\n",
       "      <td>46204.59</td>\n",
       "      <td>101778.54</td>\n",
       "    </tr>\n",
       "  </tbody>\n",
       "</table>\n",
       "</div>"
      ],
      "text/plain": [
       "         Account Title  Budget Remaining  Coverage Pay Total  Difference\n",
       "0          Teachers ES         564100.03            43075.31   521024.72\n",
       "1          Teachers MS         408164.69            24459.18   383705.51\n",
       "2  Teachers Collegiate         147983.13            46204.59   101778.54"
      ]
     },
     "execution_count": 371,
     "metadata": {},
     "output_type": "execute_result"
    }
   ],
   "source": [
    "#Creating Dataframe with remaining salary totals\n",
    "\n",
    "data = [['Teachers ES',564100.03,43075.31], ['Teachers MS',408164.69,24459.18], ['Teachers Collegiate',147983.13,46204.59]]\n",
    "\n",
    "Budget_Remaining = pd.DataFrame(data, columns = ['Account Title', 'Budget Remaining', 'Coverage Pay Total'])\n",
    "\n",
    "Budget_Remaining['Difference'] = round(Budget_Remaining['Budget Remaining'] - Budget_Remaining['Coverage Pay Total'],2)\n",
    "\n",
    "Budget_Remaining"
   ]
  },
  {
   "cell_type": "markdown",
   "id": "a56a613d",
   "metadata": {},
   "source": [
    "The Budget Remaining values are accurate as of December 31, 2023. The Collegaite Campus has the least amount of money remaining in their budget, 101,778.54 USD."
   ]
  }
 ],
 "metadata": {
  "kernelspec": {
   "display_name": "Python 3 (ipykernel)",
   "language": "python",
   "name": "python3"
  },
  "language_info": {
   "codemirror_mode": {
    "name": "ipython",
    "version": 3
   },
   "file_extension": ".py",
   "mimetype": "text/x-python",
   "name": "python",
   "nbconvert_exporter": "python",
   "pygments_lexer": "ipython3",
   "version": "3.10.9"
  }
 },
 "nbformat": 4,
 "nbformat_minor": 5
}
